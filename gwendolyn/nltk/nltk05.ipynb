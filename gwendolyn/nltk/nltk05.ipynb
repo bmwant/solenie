{
 "cells": [
  {
   "cell_type": "code",
   "execution_count": 1,
   "metadata": {},
   "outputs": [],
   "source": [
    "import nltk"
   ]
  },
  {
   "cell_type": "code",
   "execution_count": 2,
   "metadata": {},
   "outputs": [],
   "source": [
    "from nltk.tokenize import word_tokenize"
   ]
  },
  {
   "cell_type": "code",
   "execution_count": 3,
   "metadata": {},
   "outputs": [],
   "source": [
    "text = word_tokenize('And now for something completely different')"
   ]
  },
  {
   "cell_type": "code",
   "execution_count": 4,
   "metadata": {},
   "outputs": [
    {
     "data": {
      "text/plain": [
       "[('And', 'CC'),\n",
       " ('now', 'RB'),\n",
       " ('for', 'IN'),\n",
       " ('something', 'NN'),\n",
       " ('completely', 'RB'),\n",
       " ('different', 'JJ')]"
      ]
     },
     "execution_count": 4,
     "metadata": {},
     "output_type": "execute_result"
    }
   ],
   "source": [
    "nltk.pos_tag(text)"
   ]
  },
  {
   "cell_type": "code",
   "execution_count": 5,
   "metadata": {},
   "outputs": [],
   "source": [
    "text = word_tokenize('They refuse to permit us to obtain the refuse permit')"
   ]
  },
  {
   "cell_type": "code",
   "execution_count": 6,
   "metadata": {},
   "outputs": [
    {
     "data": {
      "text/plain": [
       "[('They', 'PRP'),\n",
       " ('refuse', 'VBP'),\n",
       " ('to', 'TO'),\n",
       " ('permit', 'VB'),\n",
       " ('us', 'PRP'),\n",
       " ('to', 'TO'),\n",
       " ('obtain', 'VB'),\n",
       " ('the', 'DT'),\n",
       " ('refuse', 'NN'),\n",
       " ('permit', 'NN')]"
      ]
     },
     "execution_count": 6,
     "metadata": {},
     "output_type": "execute_result"
    }
   ],
   "source": [
    "nltk.pos_tag(text)"
   ]
  },
  {
   "cell_type": "code",
   "execution_count": 7,
   "metadata": {},
   "outputs": [],
   "source": [
    "text = nltk.Text(word.lower() for word in nltk.corpus.brown.words())"
   ]
  },
  {
   "cell_type": "code",
   "execution_count": 8,
   "metadata": {},
   "outputs": [
    {
     "name": "stdout",
     "output_type": "stream",
     "text": [
      "man time day year car moment world house family child country boy\n",
      "state job place way war girl work word\n"
     ]
    }
   ],
   "source": [
    "text.similar('woman')"
   ]
  },
  {
   "cell_type": "code",
   "execution_count": 9,
   "metadata": {},
   "outputs": [
    {
     "name": "stdout",
     "output_type": "stream",
     "text": [
      "made said done put had seen found given left heard was been brought\n",
      "set got that took in told felt\n"
     ]
    }
   ],
   "source": [
    "text.similar('bought')"
   ]
  },
  {
   "cell_type": "code",
   "execution_count": 10,
   "metadata": {},
   "outputs": [
    {
     "name": "stdout",
     "output_type": "stream",
     "text": [
      "in on to of and for with from at by that into as up out down through\n",
      "is all about\n"
     ]
    }
   ],
   "source": [
    "text.similar('over')"
   ]
  },
  {
   "cell_type": "code",
   "execution_count": 11,
   "metadata": {},
   "outputs": [
    {
     "name": "stdout",
     "output_type": "stream",
     "text": [
      "a his this their its her an that our any all one these my in your no\n",
      "some other and\n"
     ]
    }
   ],
   "source": [
    "text.similar('the')"
   ]
  },
  {
   "cell_type": "code",
   "execution_count": 12,
   "metadata": {},
   "outputs": [],
   "source": [
    "tagged_token = nltk.tag.str2tuple('fly/NN')"
   ]
  },
  {
   "cell_type": "code",
   "execution_count": 13,
   "metadata": {},
   "outputs": [
    {
     "data": {
      "text/plain": [
       "('fly', 'NN')"
      ]
     },
     "execution_count": 13,
     "metadata": {},
     "output_type": "execute_result"
    }
   ],
   "source": [
    "tagged_token"
   ]
  },
  {
   "cell_type": "code",
   "execution_count": 14,
   "metadata": {},
   "outputs": [
    {
     "data": {
      "text/plain": [
       "[('The', 'AT'), ('Fulton', 'NP-TL'), ...]"
      ]
     },
     "execution_count": 14,
     "metadata": {},
     "output_type": "execute_result"
    }
   ],
   "source": [
    "nltk.corpus.brown.tagged_words()"
   ]
  },
  {
   "cell_type": "code",
   "execution_count": 15,
   "metadata": {},
   "outputs": [
    {
     "data": {
      "text/plain": [
       "[('The', 'DET'), ('Fulton', 'NOUN'), ...]"
      ]
     },
     "execution_count": 15,
     "metadata": {},
     "output_type": "execute_result"
    }
   ],
   "source": [
    "nltk.corpus.brown.tagged_words(tagset='universal')"
   ]
  },
  {
   "cell_type": "code",
   "execution_count": 16,
   "metadata": {},
   "outputs": [
    {
     "data": {
      "text/plain": [
       "[('Confidence', 'NN'), ('in', 'IN'), ('the', 'DT'), ...]"
      ]
     },
     "execution_count": 16,
     "metadata": {},
     "output_type": "execute_result"
    }
   ],
   "source": [
    "nltk.corpus.conll2000.tagged_words()"
   ]
  },
  {
   "cell_type": "code",
   "execution_count": 17,
   "metadata": {},
   "outputs": [
    {
     "data": {
      "text/plain": [
       "[('মহিষের', 'NN'), ('সন্তান', 'NN'), (':', 'SYM'), ...]"
      ]
     },
     "execution_count": 17,
     "metadata": {},
     "output_type": "execute_result"
    }
   ],
   "source": [
    "nltk.corpus.indian.tagged_words()"
   ]
  },
  {
   "cell_type": "code",
   "execution_count": 18,
   "metadata": {},
   "outputs": [],
   "source": [
    "from nltk.corpus import brown"
   ]
  },
  {
   "cell_type": "code",
   "execution_count": 19,
   "metadata": {},
   "outputs": [],
   "source": [
    "brown_news_tagged = brown.tagged_words(categories='news', tagset='universal')"
   ]
  },
  {
   "cell_type": "code",
   "execution_count": 20,
   "metadata": {},
   "outputs": [],
   "source": [
    "tag_fd = nltk.FreqDist(tag for (word, tag) in brown_news_tagged)"
   ]
  },
  {
   "cell_type": "code",
   "execution_count": 21,
   "metadata": {},
   "outputs": [
    {
     "data": {
      "text/plain": [
       "[('NOUN', 30654),\n",
       " ('VERB', 14399),\n",
       " ('ADP', 12355),\n",
       " ('.', 11928),\n",
       " ('DET', 11389),\n",
       " ('ADJ', 6706),\n",
       " ('ADV', 3349),\n",
       " ('CONJ', 2717),\n",
       " ('PRON', 2535),\n",
       " ('PRT', 2264),\n",
       " ('NUM', 2166),\n",
       " ('X', 92)]"
      ]
     },
     "execution_count": 21,
     "metadata": {},
     "output_type": "execute_result"
    }
   ],
   "source": [
    "tag_fd.most_common()"
   ]
  },
  {
   "cell_type": "code",
   "execution_count": 22,
   "metadata": {},
   "outputs": [],
   "source": [
    "word_tag_pairs = nltk.bigrams(brown_news_tagged)"
   ]
  },
  {
   "cell_type": "code",
   "execution_count": 23,
   "metadata": {},
   "outputs": [],
   "source": [
    "noun_preceders = [a[1] for (a, b) in word_tag_pairs if b[1] == 'NOUN']"
   ]
  },
  {
   "cell_type": "code",
   "execution_count": 24,
   "metadata": {},
   "outputs": [],
   "source": [
    "fdist = nltk.FreqDist(noun_preceders)"
   ]
  },
  {
   "cell_type": "code",
   "execution_count": 25,
   "metadata": {},
   "outputs": [
    {
     "data": {
      "text/plain": [
       "['NOUN',\n",
       " 'DET',\n",
       " 'ADJ',\n",
       " 'ADP',\n",
       " '.',\n",
       " 'VERB',\n",
       " 'CONJ',\n",
       " 'NUM',\n",
       " 'ADV',\n",
       " 'PRT',\n",
       " 'PRON',\n",
       " 'X']"
      ]
     },
     "execution_count": 25,
     "metadata": {},
     "output_type": "execute_result"
    }
   ],
   "source": [
    "[tag for (tag, _) in fdist.most_common()]"
   ]
  },
  {
   "cell_type": "code",
   "execution_count": 26,
   "metadata": {},
   "outputs": [],
   "source": [
    "wsj = nltk.corpus.treebank.tagged_words(tagset='universal')"
   ]
  },
  {
   "cell_type": "code",
   "execution_count": 27,
   "metadata": {},
   "outputs": [],
   "source": [
    "word_tag_fd = nltk.FreqDist(wsj)"
   ]
  },
  {
   "cell_type": "code",
   "execution_count": 28,
   "metadata": {},
   "outputs": [
    {
     "data": {
      "text/plain": [
       "['is',\n",
       " 'said',\n",
       " 'was',\n",
       " 'are',\n",
       " 'be',\n",
       " 'has',\n",
       " 'have',\n",
       " 'will',\n",
       " 'says',\n",
       " 'would',\n",
       " 'were',\n",
       " 'had',\n",
       " 'been',\n",
       " 'could',\n",
       " \"'s\",\n",
       " 'can',\n",
       " 'do',\n",
       " 'say',\n",
       " 'make',\n",
       " 'may',\n",
       " 'did',\n",
       " 'rose',\n",
       " 'made',\n",
       " 'does',\n",
       " 'expected',\n",
       " 'buy',\n",
       " 'take',\n",
       " 'get',\n",
       " 'might',\n",
       " 'sell',\n",
       " 'added',\n",
       " 'sold',\n",
       " 'help',\n",
       " 'including',\n",
       " 'should',\n",
       " 'reported',\n",
       " 'according',\n",
       " 'pay',\n",
       " 'compared',\n",
       " 'being',\n",
       " 'fell',\n",
       " 'began',\n",
       " 'based',\n",
       " 'used',\n",
       " 'closed',\n",
       " \"'re\",\n",
       " 'want',\n",
       " 'see',\n",
       " 'took',\n",
       " 'yield',\n",
       " 'offered',\n",
       " 'set',\n",
       " 'priced',\n",
       " 'approved',\n",
       " 'come',\n",
       " 'noted',\n",
       " 'cut',\n",
       " 'ended',\n",
       " 'found',\n",
       " 'increased',\n",
       " 'become',\n",
       " 'think',\n",
       " 'named',\n",
       " 'go',\n",
       " 'trying',\n",
       " 'proposed',\n",
       " 'received',\n",
       " 'growing',\n",
       " 'declined',\n",
       " 'held',\n",
       " 'give',\n",
       " 'came',\n",
       " 'use',\n",
       " 'put',\n",
       " 'making',\n",
       " 'continue',\n",
       " 'raise',\n",
       " 'estimated',\n",
       " 'called',\n",
       " 'paid',\n",
       " 'designed',\n",
       " 'going',\n",
       " 'expects',\n",
       " 'seeking',\n",
       " 'must',\n",
       " 'plans',\n",
       " 'wo',\n",
       " 'increasing',\n",
       " 'saying',\n",
       " 'got',\n",
       " 'owns',\n",
       " 'trading',\n",
       " 'acquired',\n",
       " 'gained',\n",
       " 'fined',\n",
       " 'reached',\n",
       " 'holding',\n",
       " 'announced',\n",
       " 'filed',\n",
       " 'became',\n",
       " 'seek',\n",
       " 'included',\n",
       " 'using',\n",
       " 'led',\n",
       " 'decided',\n",
       " 'keep',\n",
       " 'disclosed',\n",
       " 'agreed',\n",
       " 'find',\n",
       " 'failed',\n",
       " 'run',\n",
       " 'taken',\n",
       " 'know',\n",
       " 'coming',\n",
       " \"'ve\",\n",
       " 'completed',\n",
       " 'built',\n",
       " 'raised',\n",
       " 'traded',\n",
       " 'lost',\n",
       " 'continued',\n",
       " 'paying',\n",
       " 'include',\n",
       " 'believe',\n",
       " 'receive',\n",
       " 'posted',\n",
       " 'wants',\n",
       " 'scheduled',\n",
       " 'went',\n",
       " 'indicated',\n",
       " 'provide',\n",
       " 'helped',\n",
       " 'needed',\n",
       " 'goes',\n",
       " 'told',\n",
       " 'result',\n",
       " 'need',\n",
       " 'caused',\n",
       " 'continues',\n",
       " 'dropped',\n",
       " 'showed',\n",
       " 'ordered',\n",
       " 'changed',\n",
       " 'face',\n",
       " 'continuing',\n",
       " 'launched',\n",
       " 'gives',\n",
       " 'reduce',\n",
       " \"'m\",\n",
       " 'lead',\n",
       " 'planned',\n",
       " 'wanted',\n",
       " 'following',\n",
       " 'remains',\n",
       " 'followed',\n",
       " 'remain',\n",
       " 'meet',\n",
       " 'believes',\n",
       " 'trade',\n",
       " 'includes',\n",
       " 'improve',\n",
       " 'buying',\n",
       " 'issued',\n",
       " 'rise',\n",
       " 'leading',\n",
       " 'ca',\n",
       " 'involved',\n",
       " 'known',\n",
       " 'like',\n",
       " 'makes',\n",
       " 'having',\n",
       " 'rejected',\n",
       " 'rising',\n",
       " 'increase',\n",
       " 'turned',\n",
       " 'operating',\n",
       " 'read',\n",
       " 'feel',\n",
       " 'win',\n",
       " 'given',\n",
       " 'prevent',\n",
       " 'offset',\n",
       " 'barred',\n",
       " 'earned',\n",
       " 'consented',\n",
       " 'support',\n",
       " 'gave',\n",
       " 'totaled',\n",
       " 'acquire',\n",
       " 'required',\n",
       " 'begin',\n",
       " 'require',\n",
       " 'offer',\n",
       " 'preferred',\n",
       " 'produced',\n",
       " 'bought',\n",
       " 'offering',\n",
       " 'asked',\n",
       " 'carry',\n",
       " 'build',\n",
       " 'takes',\n",
       " 'seem',\n",
       " 'introduced',\n",
       " 'taking',\n",
       " 'won',\n",
       " 'aimed',\n",
       " 'hurt',\n",
       " 'adds',\n",
       " 'cited',\n",
       " 'sought',\n",
       " 'bring',\n",
       " 'remaining',\n",
       " 'considered',\n",
       " 'suspended',\n",
       " 'prove',\n",
       " 'looking',\n",
       " 'doing',\n",
       " 'involving',\n",
       " 'opened',\n",
       " 'working',\n",
       " 'close',\n",
       " 'own',\n",
       " 'report',\n",
       " 'left',\n",
       " 'boosted',\n",
       " 'giving',\n",
       " 'fixed',\n",
       " 'listed',\n",
       " 'runs',\n",
       " 'purchasing',\n",
       " 'consider',\n",
       " 'prepared',\n",
       " 'hit',\n",
       " 'getting',\n",
       " 'alleged',\n",
       " 'look',\n",
       " 'allowed',\n",
       " 'approve',\n",
       " 'wrote',\n",
       " 'reduced',\n",
       " 'fall',\n",
       " 'advanced',\n",
       " 'appears',\n",
       " 'mixed',\n",
       " 'described',\n",
       " 'expect',\n",
       " 'manufacturing',\n",
       " 'spent',\n",
       " 'According',\n",
       " 'hopes',\n",
       " 'underlying',\n",
       " 'produce',\n",
       " 'work',\n",
       " 'placed',\n",
       " 'allow',\n",
       " 'sells',\n",
       " 'operate',\n",
       " 'extend',\n",
       " 'surged',\n",
       " 'jumped',\n",
       " 'boost',\n",
       " 'slowing',\n",
       " 'provided',\n",
       " 'seems',\n",
       " 'ending',\n",
       " 'selling',\n",
       " 'opposed',\n",
       " 'created',\n",
       " 'move',\n",
       " 'seen',\n",
       " 'comment',\n",
       " 'valued',\n",
       " 'losing',\n",
       " 'mature',\n",
       " 'provides',\n",
       " 'let',\n",
       " 'stopped',\n",
       " 'worked',\n",
       " 'thought',\n",
       " 'watch',\n",
       " 'introduce',\n",
       " 'related',\n",
       " 'improved',\n",
       " 'raising',\n",
       " 'seemed',\n",
       " 'force',\n",
       " 'beginning',\n",
       " 'leave',\n",
       " 'believed',\n",
       " 'stand',\n",
       " 'developed',\n",
       " 'decline',\n",
       " 'expire',\n",
       " 'managing',\n",
       " 'hold',\n",
       " 'invested',\n",
       " 'suggests',\n",
       " 'represent',\n",
       " 'settle',\n",
       " 'change',\n",
       " 'contributed',\n",
       " 'indicates',\n",
       " 'asking',\n",
       " 'elaborate',\n",
       " 'shows',\n",
       " 'refused',\n",
       " 'quoted',\n",
       " 'comes',\n",
       " 'ease',\n",
       " 'passed',\n",
       " 'Says',\n",
       " 'avoid',\n",
       " 'threatened',\n",
       " 'cause',\n",
       " 'end',\n",
       " 'violate',\n",
       " 'operates',\n",
       " 'kept',\n",
       " \"'ll\",\n",
       " 'soared',\n",
       " 'eliminated',\n",
       " 'becomes',\n",
       " 'create',\n",
       " 'print',\n",
       " 'shall',\n",
       " 'show',\n",
       " 'replaced',\n",
       " 'owned',\n",
       " 'argue',\n",
       " 'beat',\n",
       " 'elected',\n",
       " 'complete',\n",
       " 'issue',\n",
       " 'act',\n",
       " 'return',\n",
       " 'registered',\n",
       " 'suffer',\n",
       " 'worried',\n",
       " 'succeed',\n",
       " 'block',\n",
       " 'contain',\n",
       " 'occur',\n",
       " 'pursue',\n",
       " 'combined',\n",
       " 'requires',\n",
       " 'met',\n",
       " 'brought',\n",
       " 'started',\n",
       " 'covered',\n",
       " 'turn',\n",
       " 'running',\n",
       " 'eliminate',\n",
       " 'file',\n",
       " 'plunged',\n",
       " 'fallen',\n",
       " 'ran',\n",
       " 'fired',\n",
       " 'becoming',\n",
       " 'contained',\n",
       " 'managed',\n",
       " 'Take',\n",
       " 'suggested',\n",
       " 'accused',\n",
       " 'appeared',\n",
       " 'slow',\n",
       " 'helping',\n",
       " 'discovered',\n",
       " 'add',\n",
       " 'referred',\n",
       " 'oppose',\n",
       " 'stop',\n",
       " 'claim',\n",
       " 'sent',\n",
       " 'formed',\n",
       " 'resulting',\n",
       " 'turning',\n",
       " 'limited',\n",
       " 'shipped',\n",
       " 'forced',\n",
       " 'send',\n",
       " 'attract',\n",
       " 'admitting',\n",
       " 'denying',\n",
       " 'disgorge',\n",
       " 'attributed',\n",
       " 'causing',\n",
       " 'studied',\n",
       " 'resigned',\n",
       " 'cutting',\n",
       " 'voted',\n",
       " 'settled',\n",
       " 'expand',\n",
       " 'stood',\n",
       " 'retired',\n",
       " 'moved',\n",
       " 'pending',\n",
       " 'providing',\n",
       " 'anticipated',\n",
       " 'decide',\n",
       " 'creating',\n",
       " 'prompted',\n",
       " 'developing',\n",
       " 'start',\n",
       " 'maintained',\n",
       " 'expanding',\n",
       " 'follows',\n",
       " 'ranged',\n",
       " 'focused',\n",
       " 'climbed',\n",
       " 'reflect',\n",
       " 'insist',\n",
       " 'owed',\n",
       " 'happen',\n",
       " 'adjusted',\n",
       " 'awarded',\n",
       " 'reporting',\n",
       " 'talk',\n",
       " 'offers',\n",
       " 'written',\n",
       " 'urged',\n",
       " 'carried',\n",
       " 'identified',\n",
       " 'confirmed',\n",
       " 'playing',\n",
       " 'thinking',\n",
       " 'calls',\n",
       " 'means',\n",
       " 'tried',\n",
       " 'lying',\n",
       " 'asks',\n",
       " 'building',\n",
       " 'suggest',\n",
       " 'falling',\n",
       " 'discuss',\n",
       " 'matched',\n",
       " 'concluded',\n",
       " 'keeping',\n",
       " \"'d\",\n",
       " 'returned',\n",
       " 'withdrawn',\n",
       " 'bid',\n",
       " 'saw',\n",
       " 'signed',\n",
       " 'financing',\n",
       " 'assuming',\n",
       " 'adopted',\n",
       " 'attempting',\n",
       " 'accepted',\n",
       " 'cover',\n",
       " 'facing',\n",
       " 'risk',\n",
       " 'expanded',\n",
       " 'leaving',\n",
       " 'raises',\n",
       " 'declared',\n",
       " 'exercise',\n",
       " 'finished',\n",
       " 'regarding',\n",
       " 'finance',\n",
       " 'charge',\n",
       " 'starting',\n",
       " 'realize',\n",
       " 'felt',\n",
       " 'remained',\n",
       " 'expressed',\n",
       " 'done',\n",
       " 'replace',\n",
       " 'veto',\n",
       " 'stay',\n",
       " 'delivered',\n",
       " 'join',\n",
       " 'publishing',\n",
       " 'enters',\n",
       " 'appear',\n",
       " 'talking',\n",
       " 'heard',\n",
       " 'dumped',\n",
       " 'imported',\n",
       " 'assume',\n",
       " 'declining',\n",
       " 'capture',\n",
       " 'grew',\n",
       " 'holds',\n",
       " 'lift',\n",
       " 'treat',\n",
       " 'receiving',\n",
       " 'joined',\n",
       " 'reflecting',\n",
       " 'released',\n",
       " 'maintaining',\n",
       " 'cost',\n",
       " 'lowered',\n",
       " 'costs',\n",
       " 'exceed',\n",
       " 'gaining',\n",
       " 'considering',\n",
       " 'determined',\n",
       " 'ruled',\n",
       " 'hope',\n",
       " 'located',\n",
       " 'tied',\n",
       " 'heads',\n",
       " 'applied',\n",
       " 'failing',\n",
       " 'showing',\n",
       " 'apply',\n",
       " 'protecting',\n",
       " 'tells',\n",
       " 'complained',\n",
       " 'ask',\n",
       " 'triggered',\n",
       " 'entered',\n",
       " 'total',\n",
       " 'producing',\n",
       " 'denied',\n",
       " 'reducing',\n",
       " 'reflects',\n",
       " 'account',\n",
       " 'predicting',\n",
       " 'intended',\n",
       " 'purchased',\n",
       " 'blamed',\n",
       " 'worry',\n",
       " 'broken',\n",
       " 'carries',\n",
       " 'learned',\n",
       " 'renewed',\n",
       " 'walk',\n",
       " 'viewed',\n",
       " 'die',\n",
       " 'speculated',\n",
       " 'needs',\n",
       " 'gets',\n",
       " 'wait',\n",
       " 'caught',\n",
       " 'claims',\n",
       " 'choose',\n",
       " 'fail',\n",
       " 'insists',\n",
       " 'knows',\n",
       " 'pass',\n",
       " 'grown',\n",
       " 'gotten',\n",
       " 'grows',\n",
       " 'responded',\n",
       " 'play',\n",
       " 'try',\n",
       " 'mean',\n",
       " 'encourage',\n",
       " 'chosen',\n",
       " 'admits',\n",
       " 'Do',\n",
       " 'dismissed',\n",
       " 'realized',\n",
       " 'serve',\n",
       " 'associated',\n",
       " 'slipped',\n",
       " 'argued',\n",
       " 'citing',\n",
       " 'seeks',\n",
       " 'preventing',\n",
       " 'sparked',\n",
       " 'review',\n",
       " 'opening',\n",
       " 'fueled',\n",
       " 'negotiate',\n",
       " 'drop',\n",
       " 'pleased',\n",
       " 'spend',\n",
       " 'care',\n",
       " 'represents',\n",
       " 'spread',\n",
       " 'explains',\n",
       " 'push',\n",
       " 'divided',\n",
       " 'proposing',\n",
       " 'gain',\n",
       " 'representing',\n",
       " 'financed',\n",
       " 'execute',\n",
       " 'existing',\n",
       " 'discussed',\n",
       " 'uses',\n",
       " 'live',\n",
       " 'ring',\n",
       " 'signal',\n",
       " 'focus',\n",
       " 'hired',\n",
       " 'limit',\n",
       " 'begins',\n",
       " 'reflected',\n",
       " 'hear',\n",
       " 'determine',\n",
       " 'profit',\n",
       " 'marketed',\n",
       " 'warned',\n",
       " 'qualified',\n",
       " 'died',\n",
       " 'surviving',\n",
       " 'study',\n",
       " 'explained',\n",
       " 'imposed',\n",
       " 'recognize',\n",
       " 'eased',\n",
       " 'indicate',\n",
       " 'permit',\n",
       " 'retain',\n",
       " 'yielding',\n",
       " 'boosts',\n",
       " 'obtain',\n",
       " 'employs',\n",
       " 'banned',\n",
       " 'pointed',\n",
       " 'leaves',\n",
       " 'withdraw',\n",
       " 'refund',\n",
       " 'collected',\n",
       " 'upheld',\n",
       " 'benefited',\n",
       " 'doubled',\n",
       " 'attached',\n",
       " 'jump',\n",
       " 'compete',\n",
       " 'incurred',\n",
       " 'removed',\n",
       " 'honor',\n",
       " 'varying',\n",
       " 'marketing',\n",
       " 'protect',\n",
       " 'reach',\n",
       " 'share',\n",
       " 'requested',\n",
       " 'grant',\n",
       " 'stepping',\n",
       " 'direct',\n",
       " 'curb',\n",
       " 'controlling',\n",
       " 'snapped',\n",
       " 'tend',\n",
       " 'cast',\n",
       " 'clear',\n",
       " 'permitted',\n",
       " 'remove',\n",
       " 'revive',\n",
       " 'draw',\n",
       " 'predicted',\n",
       " 'suspect',\n",
       " 'coupled',\n",
       " 'belong',\n",
       " 'call',\n",
       " 'describes',\n",
       " 'played',\n",
       " 'committed',\n",
       " 'advertising',\n",
       " 'tested',\n",
       " 'revived',\n",
       " 'earns',\n",
       " 'feeling',\n",
       " 'turns',\n",
       " 'executed',\n",
       " 'killed',\n",
       " 'presented',\n",
       " 'deserve',\n",
       " 'mention',\n",
       " 'seeing',\n",
       " 'discussing',\n",
       " 'convicted',\n",
       " 'telling',\n",
       " 'agree',\n",
       " 'denies',\n",
       " 'pursued',\n",
       " 'spurred',\n",
       " 'accommodate',\n",
       " 'surrendered',\n",
       " 'gone',\n",
       " 'teach',\n",
       " 'booming',\n",
       " 'serving',\n",
       " 'restore',\n",
       " 'restructured',\n",
       " 'taught',\n",
       " 'feared',\n",
       " 'meant',\n",
       " 'adding',\n",
       " 'publishes',\n",
       " 'improving',\n",
       " 'ignoring',\n",
       " 'represented',\n",
       " 'funded',\n",
       " 'involve',\n",
       " 'charged',\n",
       " 'fared',\n",
       " 'eliminates',\n",
       " 'tumbled',\n",
       " 'redeemed',\n",
       " 'resolve',\n",
       " 'stem',\n",
       " 'hire',\n",
       " 'obtained',\n",
       " 'develop',\n",
       " 'employed',\n",
       " 'prohibits',\n",
       " 'promote',\n",
       " 'impose',\n",
       " 'consist',\n",
       " 'investigating',\n",
       " 'accepting',\n",
       " 'plan',\n",
       " 'insisted',\n",
       " 'contacted',\n",
       " 'note',\n",
       " 'driving',\n",
       " 'contends',\n",
       " 'cites',\n",
       " 'point',\n",
       " 'sign',\n",
       " 'printed',\n",
       " 'advertise',\n",
       " 'breaks',\n",
       " 'damaged',\n",
       " 'check',\n",
       " 'thinks',\n",
       " 'looming',\n",
       " 'expecting',\n",
       " 'exercised',\n",
       " 'auctioned',\n",
       " 'disappointed',\n",
       " 'subordinated',\n",
       " 'respond',\n",
       " 'secured',\n",
       " 'integrated',\n",
       " 'performed',\n",
       " 'targeting',\n",
       " 'stepped',\n",
       " 'moving',\n",
       " 'split',\n",
       " 'Buy',\n",
       " 'stemming',\n",
       " 'executing',\n",
       " 'shut',\n",
       " 'writing',\n",
       " 'regulated',\n",
       " 'stands',\n",
       " 'attend',\n",
       " 'reopen',\n",
       " 'drawn',\n",
       " 'Put',\n",
       " 'notes',\n",
       " 'weaken',\n",
       " 'trailed',\n",
       " 'deliver',\n",
       " 'occurred',\n",
       " 'changing',\n",
       " 'accept',\n",
       " 'expelled',\n",
       " 'amounted',\n",
       " 'scrutinizing',\n",
       " 'suspend',\n",
       " 'compares',\n",
       " 'backed',\n",
       " 'vote',\n",
       " 'covers',\n",
       " 'knew',\n",
       " 'joining',\n",
       " 'record',\n",
       " 'regarded',\n",
       " 'copy',\n",
       " 'conclude',\n",
       " 'ought',\n",
       " 'dominated',\n",
       " 'pushed',\n",
       " 'closing',\n",
       " 'rumored',\n",
       " 'respected',\n",
       " 'specified',\n",
       " 'understand',\n",
       " 'supported',\n",
       " 'perform',\n",
       " 'declaring',\n",
       " 'struggling',\n",
       " 'abandoned',\n",
       " 'considers',\n",
       " 'warning',\n",
       " 'offsetting',\n",
       " 'break',\n",
       " 'follow',\n",
       " 'figure',\n",
       " 'increases',\n",
       " 'proving',\n",
       " 'edged',\n",
       " 'Buying',\n",
       " 'forecast',\n",
       " 'specify',\n",
       " 'extended',\n",
       " 'tendered',\n",
       " 'unveiled',\n",
       " 'treating',\n",
       " 'exposed',\n",
       " 'industrialized',\n",
       " 'regulate',\n",
       " 'contracted',\n",
       " 'blip',\n",
       " 'vary',\n",
       " 'slid',\n",
       " 'succeeds',\n",
       " 'lifted',\n",
       " 'acts',\n",
       " 'welcomed',\n",
       " 'squeezed',\n",
       " 'fed',\n",
       " 'casting',\n",
       " 'prolonged',\n",
       " 'recorded',\n",
       " 'announce',\n",
       " 'reward',\n",
       " 'bowed',\n",
       " 'justify',\n",
       " 'asserted',\n",
       " 'appealing',\n",
       " 'faces',\n",
       " 'rule',\n",
       " 'inched',\n",
       " 'manufacture',\n",
       " 'fund',\n",
       " 'anticipates',\n",
       " 'link',\n",
       " 'describe',\n",
       " 'roll',\n",
       " 'calculate',\n",
       " 'transferring',\n",
       " 'favored',\n",
       " 'claiming',\n",
       " 'hurting',\n",
       " 'investing',\n",
       " 'trained',\n",
       " 'instituted',\n",
       " 'introducing',\n",
       " 'vowed',\n",
       " 'deemed',\n",
       " 'pose',\n",
       " 'concerned',\n",
       " 'accelerated',\n",
       " 'feels',\n",
       " 'solved',\n",
       " 'forgiven',\n",
       " 'stored',\n",
       " 'assembled',\n",
       " 'totaling',\n",
       " 'linked',\n",
       " 'forces',\n",
       " 'attempts',\n",
       " 'advertised',\n",
       " 'marks',\n",
       " 'sweeping',\n",
       " 'invest',\n",
       " 'kicked',\n",
       " 'brings',\n",
       " 'scrambled',\n",
       " 'diversify',\n",
       " 'swing',\n",
       " 'skyrocketed',\n",
       " 'targeted',\n",
       " 'repaid',\n",
       " 'open',\n",
       " 'crippled',\n",
       " 'lent',\n",
       " 'belongs',\n",
       " 'stressed',\n",
       " 'leveling',\n",
       " 'manufactured',\n",
       " 'pick',\n",
       " 'cite',\n",
       " 'provoke',\n",
       " 'last',\n",
       " 'climbing',\n",
       " 'Excluding',\n",
       " 'adjusting',\n",
       " 'counts',\n",
       " 'handle',\n",
       " 'polled',\n",
       " 'drink',\n",
       " 'sets',\n",
       " 'sidestep',\n",
       " 'fare',\n",
       " 'letting',\n",
       " 'entering',\n",
       " 'ban',\n",
       " 'visiting',\n",
       " 'endorsed',\n",
       " 'balked',\n",
       " 'compensate',\n",
       " 'terminated',\n",
       " 'modify',\n",
       " 'operated',\n",
       " 'entitles',\n",
       " 'romanticized',\n",
       " 'spends',\n",
       " 'condemned',\n",
       " 'competing',\n",
       " 'returning',\n",
       " 'murdered',\n",
       " 'load',\n",
       " 'lives',\n",
       " 'recommend',\n",
       " 'fighting',\n",
       " 'fills',\n",
       " 'charges',\n",
       " 'exist',\n",
       " 'Stung',\n",
       " 'banning',\n",
       " 'admitted',\n",
       " 'talks',\n",
       " 'launch',\n",
       " 'attracted',\n",
       " 'featured',\n",
       " 'devote',\n",
       " 'featuring',\n",
       " 'suing',\n",
       " 'shrinks',\n",
       " 'tripled',\n",
       " 'pumping',\n",
       " 'contributing',\n",
       " 'spur',\n",
       " 'concentrated',\n",
       " 'export',\n",
       " 'pull',\n",
       " 'approach',\n",
       " 'step',\n",
       " 'regard',\n",
       " 'breach',\n",
       " 'pleaded',\n",
       " 'inspired',\n",
       " 'defended',\n",
       " 'treated',\n",
       " 'casts',\n",
       " 'violated',\n",
       " 'enforce',\n",
       " 'surfaced',\n",
       " 'concentrate',\n",
       " 'stressing',\n",
       " 'suffered',\n",
       " 'loved',\n",
       " 'advised',\n",
       " 'studying',\n",
       " 'pushing',\n",
       " 'earn',\n",
       " 'save',\n",
       " 'interviewed',\n",
       " 'explain',\n",
       " 'gauge',\n",
       " 'measured',\n",
       " 'deny',\n",
       " 'hampered',\n",
       " 'fill',\n",
       " 'nominated',\n",
       " 'assured',\n",
       " 'finding',\n",
       " 'conducting',\n",
       " 'tracks',\n",
       " 'merge',\n",
       " 'merged',\n",
       " 'banking',\n",
       " 'achieve',\n",
       " 'acquiring',\n",
       " 'post',\n",
       " 'wish',\n",
       " 'retained',\n",
       " 'spark',\n",
       " 'chaired',\n",
       " 'deal',\n",
       " 'submit',\n",
       " 'sending',\n",
       " 'test',\n",
       " 'relegated',\n",
       " 'alleging',\n",
       " 'mounted',\n",
       " 'harass',\n",
       " 'crossing',\n",
       " 'involves',\n",
       " 'assist',\n",
       " 'killing',\n",
       " 'served',\n",
       " 'understood',\n",
       " 'touch',\n",
       " 'Asked',\n",
       " 'design',\n",
       " 'retaining',\n",
       " 'belonging',\n",
       " 'compiled',\n",
       " 'Guaranteed',\n",
       " 'positioned',\n",
       " 'plunging',\n",
       " 'locked',\n",
       " 'starts',\n",
       " 'waiting',\n",
       " 'rolled',\n",
       " 'lock',\n",
       " 'drifted',\n",
       " 'measures',\n",
       " 'Estimated',\n",
       " ...]"
      ]
     },
     "execution_count": 28,
     "metadata": {},
     "output_type": "execute_result"
    }
   ],
   "source": [
    "[wt[0] for (wt, _) in word_tag_fd.most_common() if wt[1] == 'VERB']"
   ]
  },
  {
   "cell_type": "code",
   "execution_count": 29,
   "metadata": {},
   "outputs": [],
   "source": [
    "cfd1 = nltk.ConditionalFreqDist(wsj)"
   ]
  },
  {
   "cell_type": "code",
   "execution_count": 30,
   "metadata": {},
   "outputs": [
    {
     "data": {
      "text/plain": [
       "[('VERB', 28), ('NOUN', 20)]"
      ]
     },
     "execution_count": 30,
     "metadata": {},
     "output_type": "execute_result"
    }
   ],
   "source": [
    "cfd1['yield'].most_common()"
   ]
  },
  {
   "cell_type": "code",
   "execution_count": 31,
   "metadata": {},
   "outputs": [
    {
     "data": {
      "text/plain": [
       "[('VERB', 25), ('NOUN', 3)]"
      ]
     },
     "execution_count": 31,
     "metadata": {},
     "output_type": "execute_result"
    }
   ],
   "source": [
    "cfd1['cut'].most_common()"
   ]
  },
  {
   "cell_type": "code",
   "execution_count": 32,
   "metadata": {},
   "outputs": [],
   "source": [
    "wsj = nltk.corpus.treebank.tagged_words(tagset='universal')"
   ]
  },
  {
   "cell_type": "code",
   "execution_count": 33,
   "metadata": {},
   "outputs": [],
   "source": [
    "cfd2 = nltk.ConditionalFreqDist((tag, word) for (word, tag) in wsj)"
   ]
  },
  {
   "cell_type": "code",
   "execution_count": 34,
   "metadata": {},
   "outputs": [
    {
     "data": {
      "text/plain": [
       "[]"
      ]
     },
     "execution_count": 34,
     "metadata": {},
     "output_type": "execute_result"
    }
   ],
   "source": [
    "list(cfd2['VBN'])"
   ]
  },
  {
   "cell_type": "code",
   "execution_count": 35,
   "metadata": {},
   "outputs": [
    {
     "data": {
      "text/plain": [
       "['named',\n",
       " 'used',\n",
       " 'caused',\n",
       " 'reported',\n",
       " 'said',\n",
       " 'stopped',\n",
       " 'heard',\n",
       " 'studied',\n",
       " 'led',\n",
       " 'replaced',\n",
       " 'sold',\n",
       " 'worked',\n",
       " 'died',\n",
       " 'found',\n",
       " 'rejected',\n",
       " 'imposed',\n",
       " 'made',\n",
       " 'dumped',\n",
       " 'imported',\n",
       " 'mixed',\n",
       " 'described',\n",
       " 'continued',\n",
       " 'ended',\n",
       " 'thought',\n",
       " 'reached',\n",
       " 'had',\n",
       " 'approved',\n",
       " 'completed',\n",
       " 'suspended',\n",
       " 'lifted',\n",
       " 'dropped',\n",
       " 'voted',\n",
       " 'settled',\n",
       " 'decided',\n",
       " 'followed',\n",
       " 'welcomed',\n",
       " 'held',\n",
       " 'banned',\n",
       " 'pointed',\n",
       " 'squeezed',\n",
       " 'fed',\n",
       " 'registered',\n",
       " 'released',\n",
       " 'increased',\n",
       " 'forecast',\n",
       " 'recorded',\n",
       " 'announced',\n",
       " 'offered',\n",
       " 'lowered',\n",
       " 'spent',\n",
       " 'proposed',\n",
       " 'got',\n",
       " 'added',\n",
       " 'noted',\n",
       " 'turned',\n",
       " 'closed',\n",
       " 'retired',\n",
       " 'ordered',\n",
       " 'required',\n",
       " 'received',\n",
       " 'moved',\n",
       " 'determined',\n",
       " 'changed',\n",
       " 'upheld',\n",
       " 'set',\n",
       " 'estimated',\n",
       " 'compared',\n",
       " 'opened',\n",
       " 'tied',\n",
       " 'filed',\n",
       " 'disclosed',\n",
       " 'anticipated',\n",
       " 'attached',\n",
       " 'called',\n",
       " 'applied',\n",
       " 'favored',\n",
       " 'posted',\n",
       " 'paid',\n",
       " 'removed',\n",
       " 'accelerated',\n",
       " 'placed',\n",
       " 'vowed',\n",
       " 'deemed',\n",
       " 'prompted',\n",
       " 'complained',\n",
       " 'believed',\n",
       " 'met',\n",
       " 'solved',\n",
       " 'launched',\n",
       " 'built',\n",
       " 'triggered',\n",
       " 'developed',\n",
       " 'entered',\n",
       " 'acquired',\n",
       " 'preferred',\n",
       " 'raised',\n",
       " 'scheduled',\n",
       " 'brought',\n",
       " 'started',\n",
       " 'produced',\n",
       " 'denied',\n",
       " 'covered',\n",
       " 'maintained',\n",
       " 'left',\n",
       " 'cut',\n",
       " 'bought',\n",
       " 'snapped',\n",
       " 'put',\n",
       " 'boosted',\n",
       " 'issued',\n",
       " 'agreed',\n",
       " 'surged',\n",
       " 'ranged',\n",
       " 'kicked',\n",
       " 'scrambled',\n",
       " 'plunged',\n",
       " 'climbed',\n",
       " 'invested',\n",
       " 'jumped',\n",
       " 'owed',\n",
       " 'lent',\n",
       " 'stressed',\n",
       " 'failed',\n",
       " 'indicated',\n",
       " 'asked',\n",
       " 'intended',\n",
       " 'helped',\n",
       " 'awarded',\n",
       " 'purchased',\n",
       " 'provided',\n",
       " 'polled',\n",
       " 'included',\n",
       " 'blamed',\n",
       " 'contributed',\n",
       " 'read',\n",
       " 'fired',\n",
       " 'committed',\n",
       " 'learned',\n",
       " 'carried',\n",
       " 'identified',\n",
       " 'endorsed',\n",
       " 'renewed',\n",
       " 'confirmed',\n",
       " 'terminated',\n",
       " 'planned',\n",
       " 'contained',\n",
       " 'condemned',\n",
       " 'managed',\n",
       " 'viewed',\n",
       " 'needed',\n",
       " 'killed',\n",
       " 'presented',\n",
       " 'speculated',\n",
       " 'hit',\n",
       " 'opposed',\n",
       " 'refused',\n",
       " 'wanted',\n",
       " 'created',\n",
       " 'introduced',\n",
       " 'accused',\n",
       " 'tried',\n",
       " 'involved',\n",
       " 'responded',\n",
       " 'quoted',\n",
       " 'tripled',\n",
       " 'passed',\n",
       " 'matched',\n",
       " 'won',\n",
       " 'treated',\n",
       " 'alleged',\n",
       " 'concluded',\n",
       " 'surfaced',\n",
       " 'restructured',\n",
       " 'advised',\n",
       " 'told',\n",
       " 'feared',\n",
       " 'meant',\n",
       " 'returned',\n",
       " 'advanced',\n",
       " 'discovered',\n",
       " 'dismissed',\n",
       " 'allowed',\n",
       " 'aimed',\n",
       " 'referred',\n",
       " 'represented',\n",
       " 'threatened',\n",
       " 'controlled',\n",
       " 'hampered',\n",
       " 'nominated',\n",
       " 'assured',\n",
       " 'damaged',\n",
       " 'gained',\n",
       " 'merged',\n",
       " 'signed',\n",
       " 'lost',\n",
       " 'argued',\n",
       " 'sent',\n",
       " 'formed',\n",
       " 'obtained',\n",
       " 'mounted',\n",
       " 'adopted',\n",
       " 'sparked',\n",
       " 'served',\n",
       " 'understood',\n",
       " 'accepted',\n",
       " 'fueled',\n",
       " 'limited',\n",
       " 'Asked',\n",
       " 'extended',\n",
       " 'kept',\n",
       " 'rolled',\n",
       " 'chastised',\n",
       " 'printed',\n",
       " 'expanded',\n",
       " 'sweetened',\n",
       " 'barred',\n",
       " 'reduced',\n",
       " 'declared',\n",
       " 'soared',\n",
       " 'remarked',\n",
       " 'forced',\n",
       " 'stated',\n",
       " 'finished',\n",
       " 'eliminated',\n",
       " 'cited',\n",
       " 'collapsed',\n",
       " 'earned',\n",
       " 'licensed',\n",
       " 'secured',\n",
       " 'omitted',\n",
       " 'assumed',\n",
       " 'stepped',\n",
       " 'switched',\n",
       " 'felt',\n",
       " 'expressed',\n",
       " 'discussed',\n",
       " 'invented',\n",
       " 'observed',\n",
       " 'hired',\n",
       " 'expelled',\n",
       " 'consented',\n",
       " 'backed',\n",
       " 'reflected',\n",
       " 'sought',\n",
       " 'negotiated',\n",
       " 'resulted',\n",
       " 'proved',\n",
       " 'examined',\n",
       " 'dominated',\n",
       " 'pushed',\n",
       " 'supported',\n",
       " 'attributed',\n",
       " 'attempted',\n",
       " 'obligated',\n",
       " 'halted',\n",
       " 'transformed',\n",
       " 'marketed',\n",
       " 'rated',\n",
       " 'warned',\n",
       " 'edged',\n",
       " 'bribed']"
      ]
     },
     "execution_count": 35,
     "metadata": {},
     "output_type": "execute_result"
    }
   ],
   "source": [
    "wsj = nltk.corpus.treebank.tagged_words()\n",
    "cfd1 = nltk.ConditionalFreqDist(wsj)\n",
    "[w for w in cfd1.conditions() if 'VBD' in cfd1[w] and 'VBN' in cfd1[w]]"
   ]
  },
  {
   "cell_type": "code",
   "execution_count": 36,
   "metadata": {},
   "outputs": [],
   "source": [
    "idx1 = wsj.index(('kicked', 'VBD'))"
   ]
  },
  {
   "cell_type": "code",
   "execution_count": 37,
   "metadata": {},
   "outputs": [
    {
     "data": {
      "text/plain": [
       "[('While', 'IN'),\n",
       " ('program', 'NN'),\n",
       " ('trades', 'NNS'),\n",
       " ('swiftly', 'RB'),\n",
       " ('kicked', 'VBD')]"
      ]
     },
     "execution_count": 37,
     "metadata": {},
     "output_type": "execute_result"
    }
   ],
   "source": [
    "wsj[idx1-4:idx1+1]"
   ]
  },
  {
   "cell_type": "code",
   "execution_count": 38,
   "metadata": {},
   "outputs": [],
   "source": [
    "idx2 = wsj.index(('kicked', 'VBN'))"
   ]
  },
  {
   "cell_type": "code",
   "execution_count": 39,
   "metadata": {},
   "outputs": [
    {
     "data": {
      "text/plain": [
       "[('head', 'NN'),\n",
       " ('of', 'IN'),\n",
       " ('state', 'NN'),\n",
       " ('has', 'VBZ'),\n",
       " ('kicked', 'VBN')]"
      ]
     },
     "execution_count": 39,
     "metadata": {},
     "output_type": "execute_result"
    }
   ],
   "source": [
    "wsj[idx2-4:idx2+1]"
   ]
  },
  {
   "cell_type": "code",
   "execution_count": 40,
   "metadata": {},
   "outputs": [],
   "source": [
    "def findtags(tag_prefix, tagged_text):\n",
    "    cfd = nltk.ConditionalFreqDist((tag, word) for (word, tag) in tagged_text\n",
    "                                  if tag.startswith(tag_prefix))\n",
    "    return dict((tag, cfd[tag].most_common(5)) for tag in cfd.conditions())"
   ]
  },
  {
   "cell_type": "code",
   "execution_count": 41,
   "metadata": {},
   "outputs": [],
   "source": [
    "tagdict = findtags('NN', nltk.corpus.brown.tagged_words(categories='news'))"
   ]
  },
  {
   "cell_type": "code",
   "execution_count": 42,
   "metadata": {},
   "outputs": [
    {
     "name": "stdout",
     "output_type": "stream",
     "text": [
      "NN [('year', 137), ('time', 97), ('state', 88), ('week', 85), ('man', 72)]\n",
      "NN$ [(\"year's\", 13), (\"world's\", 8), (\"state's\", 7), (\"nation's\", 6), (\"city's\", 6)]\n",
      "NN$-HL [(\"Golf's\", 1), (\"Navy's\", 1)]\n",
      "NN$-TL [(\"President's\", 11), (\"Administration's\", 3), (\"Army's\", 3), (\"League's\", 3), (\"University's\", 3)]\n",
      "NN-HL [('sp.', 2), ('problem', 2), ('Question', 2), ('cut', 2), ('party', 2)]\n",
      "NN-NC [('ova', 1), ('eva', 1), ('aya', 1)]\n",
      "NN-TL [('President', 88), ('House', 68), ('State', 59), ('University', 42), ('City', 41)]\n",
      "NN-TL-HL [('Fort', 2), ('Mayor', 1), ('Commissioner', 1), ('City', 1), ('Oak', 1)]\n",
      "NNS [('years', 101), ('members', 69), ('people', 52), ('sales', 51), ('men', 46)]\n",
      "NNS$ [(\"children's\", 7), (\"women's\", 5), (\"men's\", 3), (\"janitors'\", 3), (\"taxpayers'\", 2)]\n",
      "NNS$-HL [(\"Dealers'\", 1), (\"Idols'\", 1)]\n",
      "NNS$-TL [(\"Women's\", 4), (\"States'\", 3), (\"Giants'\", 2), (\"Princes'\", 1), (\"Bombers'\", 1)]\n",
      "NNS-HL [('Wards', 1), ('deputies', 1), ('bonds', 1), ('aspects', 1), ('Decisions', 1)]\n",
      "NNS-TL [('States', 38), ('Nations', 11), ('Masters', 10), ('Communists', 9), ('Rules', 9)]\n",
      "NNS-TL-HL [('Nations', 1)]\n"
     ]
    }
   ],
   "source": [
    "for tag in sorted(tagdict):\n",
    "    print(tag, tagdict[tag])"
   ]
  },
  {
   "cell_type": "code",
   "execution_count": 43,
   "metadata": {},
   "outputs": [],
   "source": [
    "brown_learned_text = brown.words(categories='learned')"
   ]
  },
  {
   "cell_type": "code",
   "execution_count": 44,
   "metadata": {},
   "outputs": [
    {
     "data": {
      "text/plain": [
       "[',',\n",
       " '.',\n",
       " 'accomplished',\n",
       " 'analytically',\n",
       " 'appear',\n",
       " 'apt',\n",
       " 'associated',\n",
       " 'assuming',\n",
       " 'became',\n",
       " 'become',\n",
       " 'been',\n",
       " 'began',\n",
       " 'call',\n",
       " 'called',\n",
       " 'carefully',\n",
       " 'chose',\n",
       " 'classified',\n",
       " 'colorful',\n",
       " 'composed',\n",
       " 'contain',\n",
       " 'differed',\n",
       " 'difficult',\n",
       " 'encountered',\n",
       " 'enough',\n",
       " 'equate',\n",
       " 'extremely',\n",
       " 'found',\n",
       " 'happens',\n",
       " 'have',\n",
       " 'ignored',\n",
       " 'in',\n",
       " 'involved',\n",
       " 'more',\n",
       " 'needed',\n",
       " 'nightly',\n",
       " 'observed',\n",
       " 'of',\n",
       " 'on',\n",
       " 'out',\n",
       " 'quite',\n",
       " 'represent',\n",
       " 'responsible',\n",
       " 'revamped',\n",
       " 'seclude',\n",
       " 'set',\n",
       " 'shortened',\n",
       " 'sing',\n",
       " 'sounded',\n",
       " 'stated',\n",
       " 'still',\n",
       " 'sung',\n",
       " 'supported',\n",
       " 'than',\n",
       " 'to',\n",
       " 'when',\n",
       " 'work']"
      ]
     },
     "execution_count": 44,
     "metadata": {},
     "output_type": "execute_result"
    }
   ],
   "source": [
    "sorted(set(b for (a, b) in nltk.bigrams(brown_learned_text) if a == 'often'))"
   ]
  },
  {
   "cell_type": "code",
   "execution_count": 45,
   "metadata": {},
   "outputs": [],
   "source": [
    "brown_lrnd_tagged = brown.tagged_words(categories='learned', tagset='universal')"
   ]
  },
  {
   "cell_type": "code",
   "execution_count": 46,
   "metadata": {},
   "outputs": [],
   "source": [
    "tags = [b[1] for (a, b) in nltk.bigrams(brown_lrnd_tagged) if a[0] == 'often']"
   ]
  },
  {
   "cell_type": "code",
   "execution_count": 47,
   "metadata": {},
   "outputs": [],
   "source": [
    "fd = nltk.FreqDist(tags)"
   ]
  },
  {
   "cell_type": "code",
   "execution_count": 48,
   "metadata": {},
   "outputs": [
    {
     "name": "stdout",
     "output_type": "stream",
     "text": [
      "VERB  ADV  ADP  ADJ    .  PRT \n",
      "  37    8    7    6    4    2 \n"
     ]
    }
   ],
   "source": [
    "fd.tabulate()"
   ]
  },
  {
   "cell_type": "code",
   "execution_count": 49,
   "metadata": {},
   "outputs": [],
   "source": [
    "from nltk.corpus import brown"
   ]
  },
  {
   "cell_type": "code",
   "execution_count": 50,
   "metadata": {},
   "outputs": [],
   "source": [
    "def process(sentence):\n",
    "    for (w1, t1), (w2, t2), (w3, t3) in nltk.trigrams(sentence):\n",
    "        if (t1.startswith('V') and t2 == 'TO' and t3.startswith('V')):\n",
    "            print(w1, w2, w3)"
   ]
  },
  {
   "cell_type": "code",
   "execution_count": 51,
   "metadata": {},
   "outputs": [
    {
     "name": "stdout",
     "output_type": "stream",
     "text": [
      "combined to achieve\n",
      "continue to place\n",
      "serve to protect\n",
      "wanted to wait\n",
      "allowed to place\n",
      "expected to become\n",
      "expected to approve\n",
      "expected to make\n",
      "intends to make\n",
      "seek to set\n",
      "like to see\n"
     ]
    },
    {
     "ename": "RuntimeError",
     "evalue": "generator raised StopIteration",
     "output_type": "error",
     "traceback": [
      "\u001b[0;31m---------------------------------------------------------------------------\u001b[0m",
      "\u001b[0;31mStopIteration\u001b[0m                             Traceback (most recent call last)",
      "\u001b[0;32m~/.virtualenvs/solenie/lib/python3.7/site-packages/nltk/util.py\u001b[0m in \u001b[0;36mngrams\u001b[0;34m(sequence, n, pad_left, pad_right, left_pad_symbol, right_pad_symbol)\u001b[0m\n\u001b[1;32m    467\u001b[0m     \u001b[0;32mwhile\u001b[0m \u001b[0mn\u001b[0m \u001b[0;34m>\u001b[0m \u001b[0;36m1\u001b[0m\u001b[0;34m:\u001b[0m\u001b[0;34m\u001b[0m\u001b[0m\n\u001b[0;32m--> 468\u001b[0;31m         \u001b[0mhistory\u001b[0m\u001b[0;34m.\u001b[0m\u001b[0mappend\u001b[0m\u001b[0;34m(\u001b[0m\u001b[0mnext\u001b[0m\u001b[0;34m(\u001b[0m\u001b[0msequence\u001b[0m\u001b[0;34m)\u001b[0m\u001b[0;34m)\u001b[0m\u001b[0;34m\u001b[0m\u001b[0m\n\u001b[0m\u001b[1;32m    469\u001b[0m         \u001b[0mn\u001b[0m \u001b[0;34m-=\u001b[0m \u001b[0;36m1\u001b[0m\u001b[0;34m\u001b[0m\u001b[0m\n",
      "\u001b[0;31mStopIteration\u001b[0m: ",
      "\nThe above exception was the direct cause of the following exception:\n",
      "\u001b[0;31mRuntimeError\u001b[0m                              Traceback (most recent call last)",
      "\u001b[0;32m<ipython-input-51-ae5962b7f023>\u001b[0m in \u001b[0;36m<module>\u001b[0;34m\u001b[0m\n\u001b[1;32m      1\u001b[0m \u001b[0;32mfor\u001b[0m \u001b[0mtagged_sent\u001b[0m \u001b[0;32min\u001b[0m \u001b[0mbrown\u001b[0m\u001b[0;34m.\u001b[0m\u001b[0mtagged_sents\u001b[0m\u001b[0;34m(\u001b[0m\u001b[0;34m)\u001b[0m\u001b[0;34m:\u001b[0m\u001b[0;34m\u001b[0m\u001b[0m\n\u001b[0;32m----> 2\u001b[0;31m     \u001b[0mprocess\u001b[0m\u001b[0;34m(\u001b[0m\u001b[0mtagged_sent\u001b[0m\u001b[0;34m)\u001b[0m\u001b[0;34m\u001b[0m\u001b[0m\n\u001b[0m",
      "\u001b[0;32m<ipython-input-50-9af56d17a7a4>\u001b[0m in \u001b[0;36mprocess\u001b[0;34m(sentence)\u001b[0m\n\u001b[1;32m      1\u001b[0m \u001b[0;32mdef\u001b[0m \u001b[0mprocess\u001b[0m\u001b[0;34m(\u001b[0m\u001b[0msentence\u001b[0m\u001b[0;34m)\u001b[0m\u001b[0;34m:\u001b[0m\u001b[0;34m\u001b[0m\u001b[0m\n\u001b[0;32m----> 2\u001b[0;31m     \u001b[0;32mfor\u001b[0m \u001b[0;34m(\u001b[0m\u001b[0mw1\u001b[0m\u001b[0;34m,\u001b[0m \u001b[0mt1\u001b[0m\u001b[0;34m)\u001b[0m\u001b[0;34m,\u001b[0m \u001b[0;34m(\u001b[0m\u001b[0mw2\u001b[0m\u001b[0;34m,\u001b[0m \u001b[0mt2\u001b[0m\u001b[0;34m)\u001b[0m\u001b[0;34m,\u001b[0m \u001b[0;34m(\u001b[0m\u001b[0mw3\u001b[0m\u001b[0;34m,\u001b[0m \u001b[0mt3\u001b[0m\u001b[0;34m)\u001b[0m \u001b[0;32min\u001b[0m \u001b[0mnltk\u001b[0m\u001b[0;34m.\u001b[0m\u001b[0mtrigrams\u001b[0m\u001b[0;34m(\u001b[0m\u001b[0msentence\u001b[0m\u001b[0;34m)\u001b[0m\u001b[0;34m:\u001b[0m\u001b[0;34m\u001b[0m\u001b[0m\n\u001b[0m\u001b[1;32m      3\u001b[0m         \u001b[0;32mif\u001b[0m \u001b[0;34m(\u001b[0m\u001b[0mt1\u001b[0m\u001b[0;34m.\u001b[0m\u001b[0mstartswith\u001b[0m\u001b[0;34m(\u001b[0m\u001b[0;34m'V'\u001b[0m\u001b[0;34m)\u001b[0m \u001b[0;32mand\u001b[0m \u001b[0mt2\u001b[0m \u001b[0;34m==\u001b[0m \u001b[0;34m'TO'\u001b[0m \u001b[0;32mand\u001b[0m \u001b[0mt3\u001b[0m\u001b[0;34m.\u001b[0m\u001b[0mstartswith\u001b[0m\u001b[0;34m(\u001b[0m\u001b[0;34m'V'\u001b[0m\u001b[0;34m)\u001b[0m\u001b[0;34m)\u001b[0m\u001b[0;34m:\u001b[0m\u001b[0;34m\u001b[0m\u001b[0m\n\u001b[1;32m      4\u001b[0m             \u001b[0mprint\u001b[0m\u001b[0;34m(\u001b[0m\u001b[0mw1\u001b[0m\u001b[0;34m,\u001b[0m \u001b[0mw2\u001b[0m\u001b[0;34m,\u001b[0m \u001b[0mw3\u001b[0m\u001b[0;34m)\u001b[0m\u001b[0;34m\u001b[0m\u001b[0m\n",
      "\u001b[0;32m~/.virtualenvs/solenie/lib/python3.7/site-packages/nltk/util.py\u001b[0m in \u001b[0;36mtrigrams\u001b[0;34m(sequence, **kwargs)\u001b[0m\n\u001b[1;32m    508\u001b[0m     \"\"\"\n\u001b[1;32m    509\u001b[0m \u001b[0;34m\u001b[0m\u001b[0m\n\u001b[0;32m--> 510\u001b[0;31m     \u001b[0;32mfor\u001b[0m \u001b[0mitem\u001b[0m \u001b[0;32min\u001b[0m \u001b[0mngrams\u001b[0m\u001b[0;34m(\u001b[0m\u001b[0msequence\u001b[0m\u001b[0;34m,\u001b[0m \u001b[0;36m3\u001b[0m\u001b[0;34m,\u001b[0m \u001b[0;34m**\u001b[0m\u001b[0mkwargs\u001b[0m\u001b[0;34m)\u001b[0m\u001b[0;34m:\u001b[0m\u001b[0;34m\u001b[0m\u001b[0m\n\u001b[0m\u001b[1;32m    511\u001b[0m         \u001b[0;32myield\u001b[0m \u001b[0mitem\u001b[0m\u001b[0;34m\u001b[0m\u001b[0m\n\u001b[1;32m    512\u001b[0m \u001b[0;34m\u001b[0m\u001b[0m\n",
      "\u001b[0;31mRuntimeError\u001b[0m: generator raised StopIteration"
     ]
    }
   ],
   "source": [
    "for tagged_sent in brown.tagged_sents():\n",
    "    process(tagged_sent)"
   ]
  },
  {
   "cell_type": "code",
   "execution_count": null,
   "metadata": {},
   "outputs": [],
   "source": [
    "brown_news_tagged = brown.tagged_words(categories='news', tagset='universal')"
   ]
  },
  {
   "cell_type": "code",
   "execution_count": null,
   "metadata": {},
   "outputs": [],
   "source": [
    "data = nltk.ConditionalFreqDist((word.lower(), tag)\n",
    "                                for (word, tag) in brown_news_tagged)"
   ]
  },
  {
   "cell_type": "code",
   "execution_count": null,
   "metadata": {},
   "outputs": [],
   "source": [
    "for word in sorted(data.conditions()):\n",
    "    if len(data[word]) > 3:\n",
    "        tags = [tag for (tag, _) in data[word].most_common()]\n",
    "        print(word, ' '.join(tags))"
   ]
  },
  {
   "cell_type": "code",
   "execution_count": null,
   "metadata": {},
   "outputs": [],
   "source": [
    "from collections import defaultdict"
   ]
  },
  {
   "cell_type": "code",
   "execution_count": null,
   "metadata": {},
   "outputs": [],
   "source": [
    "alic = nltk.corpus.gutenberg.words('carroll-alice.txt')"
   ]
  },
  {
   "cell_type": "code",
   "execution_count": null,
   "metadata": {},
   "outputs": [],
   "source": [
    "vocab = nltk.FreqDist(alic)"
   ]
  },
  {
   "cell_type": "code",
   "execution_count": null,
   "metadata": {},
   "outputs": [],
   "source": [
    "v1000 = [word for (word, _) in vocab.most_common(1000)]"
   ]
  },
  {
   "cell_type": "code",
   "execution_count": null,
   "metadata": {},
   "outputs": [],
   "source": [
    "mapping = defaultdict(lambda: 'UNK')"
   ]
  },
  {
   "cell_type": "code",
   "execution_count": null,
   "metadata": {},
   "outputs": [],
   "source": [
    "for v in v1000:\n",
    "    mapping[v] = v"
   ]
  },
  {
   "cell_type": "code",
   "execution_count": null,
   "metadata": {},
   "outputs": [],
   "source": [
    "alice2 = [mapping[v] for v in alic]"
   ]
  },
  {
   "cell_type": "code",
   "execution_count": null,
   "metadata": {},
   "outputs": [],
   "source": [
    "alice2[:100]"
   ]
  },
  {
   "cell_type": "code",
   "execution_count": null,
   "metadata": {},
   "outputs": [],
   "source": [
    "len(set(alice2))"
   ]
  },
  {
   "cell_type": "code",
   "execution_count": null,
   "metadata": {},
   "outputs": [],
   "source": [
    "counts = defaultdict(int)"
   ]
  },
  {
   "cell_type": "code",
   "execution_count": null,
   "metadata": {},
   "outputs": [],
   "source": [
    "?brown"
   ]
  },
  {
   "cell_type": "code",
   "execution_count": null,
   "metadata": {},
   "outputs": [],
   "source": [
    "for (word, tag) in brown.tagged_words(categories='news', tagset='universal'):\n",
    "    counts[tag] += 1"
   ]
  },
  {
   "cell_type": "code",
   "execution_count": null,
   "metadata": {},
   "outputs": [],
   "source": [
    "counts['NOUN']"
   ]
  },
  {
   "cell_type": "code",
   "execution_count": null,
   "metadata": {},
   "outputs": [],
   "source": [
    "sorted(counts)"
   ]
  },
  {
   "cell_type": "code",
   "execution_count": null,
   "metadata": {},
   "outputs": [],
   "source": [
    "from operator import itemgetter"
   ]
  },
  {
   "cell_type": "code",
   "execution_count": null,
   "metadata": {},
   "outputs": [],
   "source": [
    "sorted(counts.items(), key=itemgetter(1), reverse=True)"
   ]
  },
  {
   "cell_type": "code",
   "execution_count": null,
   "metadata": {},
   "outputs": [],
   "source": [
    "[t for t, c in sorted(counts.items(), key=itemgetter(1), reverse=True)]"
   ]
  },
  {
   "cell_type": "code",
   "execution_count": null,
   "metadata": {},
   "outputs": [],
   "source": [
    "last_letters = defaultdict(list)"
   ]
  },
  {
   "cell_type": "code",
   "execution_count": null,
   "metadata": {},
   "outputs": [],
   "source": [
    "words = nltk.corpus.words.words('en')"
   ]
  },
  {
   "cell_type": "code",
   "execution_count": null,
   "metadata": {},
   "outputs": [],
   "source": [
    "for word in words:\n",
    "    key = word[-2:]\n",
    "    last_letters[key].append(word)"
   ]
  },
  {
   "cell_type": "code",
   "execution_count": null,
   "metadata": {},
   "outputs": [],
   "source": [
    "last_letters['ly']"
   ]
  },
  {
   "cell_type": "code",
   "execution_count": null,
   "metadata": {},
   "outputs": [],
   "source": [
    "last_letters['zy']"
   ]
  },
  {
   "cell_type": "code",
   "execution_count": null,
   "metadata": {},
   "outputs": [],
   "source": [
    "anagrams = defaultdict(list)"
   ]
  },
  {
   "cell_type": "code",
   "execution_count": null,
   "metadata": {},
   "outputs": [],
   "source": [
    "for word in words:\n",
    "    key = ''.join(sorted(word))\n",
    "    anagrams[key].append(word)"
   ]
  },
  {
   "cell_type": "code",
   "execution_count": null,
   "metadata": {},
   "outputs": [],
   "source": [
    "anagrams['aeilnrt']"
   ]
  },
  {
   "cell_type": "code",
   "execution_count": null,
   "metadata": {},
   "outputs": [],
   "source": [
    "anagrams = nltk.Index((''.join(sorted(w)), w) for w in words)"
   ]
  },
  {
   "cell_type": "code",
   "execution_count": null,
   "metadata": {},
   "outputs": [],
   "source": [
    "anagrams['aeilnrt']"
   ]
  },
  {
   "cell_type": "code",
   "execution_count": null,
   "metadata": {},
   "outputs": [],
   "source": [
    "pos = defaultdict(lambda: defaultdict(int))"
   ]
  },
  {
   "cell_type": "code",
   "execution_count": null,
   "metadata": {},
   "outputs": [],
   "source": [
    "brown_news_tagged = brown.tagged_words(categories='news', tagset='universal')"
   ]
  },
  {
   "cell_type": "code",
   "execution_count": null,
   "metadata": {},
   "outputs": [],
   "source": [
    "for ((w1, t1), (w2, t2)) in nltk.bigrams(brown_news_tagged):\n",
    "    pos[(t1, w2)][t2] += 1"
   ]
  },
  {
   "cell_type": "code",
   "execution_count": null,
   "metadata": {},
   "outputs": [],
   "source": [
    "pos[('DET', 'right')]"
   ]
  },
  {
   "cell_type": "code",
   "execution_count": null,
   "metadata": {},
   "outputs": [],
   "source": [
    "counts = defaultdict(int)"
   ]
  },
  {
   "cell_type": "code",
   "execution_count": null,
   "metadata": {},
   "outputs": [],
   "source": [
    "for word in nltk.corpus.gutenberg.words('milton-paradise.txt'):\n",
    "    counts[word] += 1"
   ]
  },
  {
   "cell_type": "code",
   "execution_count": null,
   "metadata": {},
   "outputs": [],
   "source": [
    "[key for (key, value) in counts.items() if value == 32]"
   ]
  },
  {
   "cell_type": "code",
   "execution_count": null,
   "metadata": {},
   "outputs": [],
   "source": [
    "pos = {'colorless': 'ADJ', 'ideas': 'N', 'sleep': 'V', 'furiosly': 'ADV'}"
   ]
  },
  {
   "cell_type": "code",
   "execution_count": null,
   "metadata": {},
   "outputs": [],
   "source": [
    "pos2 = dict((value, key) for (key, value) in pos.items())"
   ]
  },
  {
   "cell_type": "code",
   "execution_count": null,
   "metadata": {},
   "outputs": [],
   "source": [
    "pos2['N']"
   ]
  },
  {
   "cell_type": "code",
   "execution_count": null,
   "metadata": {},
   "outputs": [],
   "source": [
    "pos.update({'cats': 'N', 'scratch': 'V', 'peacefully': 'ADV', 'old': 'ADJ'})"
   ]
  },
  {
   "cell_type": "code",
   "execution_count": null,
   "metadata": {},
   "outputs": [],
   "source": [
    "pos2 = defaultdict(list)"
   ]
  },
  {
   "cell_type": "code",
   "execution_count": null,
   "metadata": {},
   "outputs": [],
   "source": [
    "for key, value in pos.items():\n",
    "    pos2[value].append(key)"
   ]
  },
  {
   "cell_type": "code",
   "execution_count": null,
   "metadata": {},
   "outputs": [],
   "source": [
    "pos2['ADV']"
   ]
  },
  {
   "cell_type": "code",
   "execution_count": null,
   "metadata": {},
   "outputs": [],
   "source": [
    "pos2 = nltk.Index((value, key) for (key, value) in pos.items())"
   ]
  },
  {
   "cell_type": "code",
   "execution_count": null,
   "metadata": {},
   "outputs": [],
   "source": [
    "pos2['ADV']"
   ]
  },
  {
   "cell_type": "code",
   "execution_count": 52,
   "metadata": {},
   "outputs": [],
   "source": [
    "from nltk.corpus import brown"
   ]
  },
  {
   "cell_type": "code",
   "execution_count": 53,
   "metadata": {},
   "outputs": [],
   "source": [
    "brown_tagged_sents = brown.tagged_sents(categories='news')"
   ]
  },
  {
   "cell_type": "code",
   "execution_count": 54,
   "metadata": {},
   "outputs": [],
   "source": [
    "brown_sents = brown.sents(categories='news')"
   ]
  },
  {
   "cell_type": "code",
   "execution_count": 55,
   "metadata": {},
   "outputs": [],
   "source": [
    "tags = [tag for (word, tag) in brown.tagged_words(categories='news')]"
   ]
  },
  {
   "cell_type": "code",
   "execution_count": 56,
   "metadata": {},
   "outputs": [
    {
     "data": {
      "text/plain": [
       "'NN'"
      ]
     },
     "execution_count": 56,
     "metadata": {},
     "output_type": "execute_result"
    }
   ],
   "source": [
    "nltk.FreqDist(tags).max()"
   ]
  },
  {
   "cell_type": "code",
   "execution_count": 57,
   "metadata": {},
   "outputs": [],
   "source": [
    "raw = 'I do not like green eggs and ham, I do not like them Sam I am!'"
   ]
  },
  {
   "cell_type": "code",
   "execution_count": 58,
   "metadata": {},
   "outputs": [],
   "source": [
    "tokens = word_tokenize(raw)"
   ]
  },
  {
   "cell_type": "code",
   "execution_count": 59,
   "metadata": {},
   "outputs": [],
   "source": [
    "default_tagger = nltk.DefaultTagger('NN')"
   ]
  },
  {
   "cell_type": "code",
   "execution_count": 60,
   "metadata": {},
   "outputs": [
    {
     "data": {
      "text/plain": [
       "[('I', 'NN'),\n",
       " ('do', 'NN'),\n",
       " ('not', 'NN'),\n",
       " ('like', 'NN'),\n",
       " ('green', 'NN'),\n",
       " ('eggs', 'NN'),\n",
       " ('and', 'NN'),\n",
       " ('ham', 'NN'),\n",
       " (',', 'NN'),\n",
       " ('I', 'NN'),\n",
       " ('do', 'NN'),\n",
       " ('not', 'NN'),\n",
       " ('like', 'NN'),\n",
       " ('them', 'NN'),\n",
       " ('Sam', 'NN'),\n",
       " ('I', 'NN'),\n",
       " ('am', 'NN'),\n",
       " ('!', 'NN')]"
      ]
     },
     "execution_count": 60,
     "metadata": {},
     "output_type": "execute_result"
    }
   ],
   "source": [
    "default_tagger.tag(tokens)"
   ]
  },
  {
   "cell_type": "code",
   "execution_count": 61,
   "metadata": {},
   "outputs": [
    {
     "data": {
      "text/plain": [
       "0.13089484257215028"
      ]
     },
     "execution_count": 61,
     "metadata": {},
     "output_type": "execute_result"
    }
   ],
   "source": [
    "default_tagger.evaluate(brown_tagged_sents)"
   ]
  },
  {
   "cell_type": "code",
   "execution_count": 63,
   "metadata": {},
   "outputs": [],
   "source": [
    "patterns = [\n",
    "    (r'.*ing$', 'VBG'),\n",
    "    (r'.*ed$', 'VBD'),\n",
    "    (r'.*es$', 'VBZ'),\n",
    "    (r'.*ould$', 'MD'),\n",
    "    (r'.*\\'s$', 'NN$'),\n",
    "    (r'.*s$', 'NNS'),\n",
    "    (r'^-?[0-9]+(.[0-9]+)?$', 'CD'),\n",
    "    (r'.*', 'NN')\n",
    "]"
   ]
  },
  {
   "cell_type": "code",
   "execution_count": 64,
   "metadata": {},
   "outputs": [],
   "source": [
    "regexp_tagger = nltk.RegexpTagger(patterns)"
   ]
  },
  {
   "cell_type": "code",
   "execution_count": 65,
   "metadata": {},
   "outputs": [
    {
     "data": {
      "text/plain": [
       "[('``', 'NN'),\n",
       " ('Only', 'NN'),\n",
       " ('a', 'NN'),\n",
       " ('relative', 'NN'),\n",
       " ('handful', 'NN'),\n",
       " ('of', 'NN'),\n",
       " ('such', 'NN'),\n",
       " ('reports', 'NNS'),\n",
       " ('was', 'NNS'),\n",
       " ('received', 'VBD'),\n",
       " (\"''\", 'NN'),\n",
       " (',', 'NN'),\n",
       " ('the', 'NN'),\n",
       " ('jury', 'NN'),\n",
       " ('said', 'NN'),\n",
       " (',', 'NN'),\n",
       " ('``', 'NN'),\n",
       " ('considering', 'VBG'),\n",
       " ('the', 'NN'),\n",
       " ('widespread', 'NN'),\n",
       " ('interest', 'NN'),\n",
       " ('in', 'NN'),\n",
       " ('the', 'NN'),\n",
       " ('election', 'NN'),\n",
       " (',', 'NN'),\n",
       " ('the', 'NN'),\n",
       " ('number', 'NN'),\n",
       " ('of', 'NN'),\n",
       " ('voters', 'NNS'),\n",
       " ('and', 'NN'),\n",
       " ('the', 'NN'),\n",
       " ('size', 'NN'),\n",
       " ('of', 'NN'),\n",
       " ('this', 'NNS'),\n",
       " ('city', 'NN'),\n",
       " (\"''\", 'NN'),\n",
       " ('.', 'NN')]"
      ]
     },
     "execution_count": 65,
     "metadata": {},
     "output_type": "execute_result"
    }
   ],
   "source": [
    "regexp_tagger.tag(brown_sents[3])"
   ]
  },
  {
   "cell_type": "code",
   "execution_count": 66,
   "metadata": {},
   "outputs": [
    {
     "data": {
      "text/plain": [
       "0.20326391789486245"
      ]
     },
     "execution_count": 66,
     "metadata": {},
     "output_type": "execute_result"
    }
   ],
   "source": [
    "regexp_tagger.evaluate(brown_tagged_sents)"
   ]
  },
  {
   "cell_type": "code",
   "execution_count": 67,
   "metadata": {},
   "outputs": [],
   "source": [
    "fd = nltk.FreqDist(brown.words(categories='news'))"
   ]
  },
  {
   "cell_type": "code",
   "execution_count": 68,
   "metadata": {},
   "outputs": [],
   "source": [
    "cfd = nltk.ConditionalFreqDist(brown.tagged_words(categories='news'))"
   ]
  },
  {
   "cell_type": "code",
   "execution_count": 69,
   "metadata": {},
   "outputs": [],
   "source": [
    "most_freq_words = fd.most_common(100)"
   ]
  },
  {
   "cell_type": "code",
   "execution_count": 72,
   "metadata": {},
   "outputs": [],
   "source": [
    "likely_tags = dict((word, cfd[word].max()) for (word, _) in most_freq_words)"
   ]
  },
  {
   "cell_type": "code",
   "execution_count": 73,
   "metadata": {},
   "outputs": [],
   "source": [
    "baseline_tagger = nltk.UnigramTagger(model=likely_tags)"
   ]
  },
  {
   "cell_type": "code",
   "execution_count": 74,
   "metadata": {},
   "outputs": [
    {
     "data": {
      "text/plain": [
       "0.45578495136941344"
      ]
     },
     "execution_count": 74,
     "metadata": {},
     "output_type": "execute_result"
    }
   ],
   "source": [
    "baseline_tagger.evaluate(brown_tagged_sents)"
   ]
  },
  {
   "cell_type": "code",
   "execution_count": 75,
   "metadata": {},
   "outputs": [],
   "source": [
    "sent = brown.sents(categories='news')[3]"
   ]
  },
  {
   "cell_type": "code",
   "execution_count": 76,
   "metadata": {},
   "outputs": [
    {
     "data": {
      "text/plain": [
       "[('``', '``'),\n",
       " ('Only', None),\n",
       " ('a', 'AT'),\n",
       " ('relative', None),\n",
       " ('handful', None),\n",
       " ('of', 'IN'),\n",
       " ('such', None),\n",
       " ('reports', None),\n",
       " ('was', 'BEDZ'),\n",
       " ('received', None),\n",
       " (\"''\", \"''\"),\n",
       " (',', ','),\n",
       " ('the', 'AT'),\n",
       " ('jury', None),\n",
       " ('said', 'VBD'),\n",
       " (',', ','),\n",
       " ('``', '``'),\n",
       " ('considering', None),\n",
       " ('the', 'AT'),\n",
       " ('widespread', None),\n",
       " ('interest', None),\n",
       " ('in', 'IN'),\n",
       " ('the', 'AT'),\n",
       " ('election', None),\n",
       " (',', ','),\n",
       " ('the', 'AT'),\n",
       " ('number', None),\n",
       " ('of', 'IN'),\n",
       " ('voters', None),\n",
       " ('and', 'CC'),\n",
       " ('the', 'AT'),\n",
       " ('size', None),\n",
       " ('of', 'IN'),\n",
       " ('this', 'DT'),\n",
       " ('city', None),\n",
       " (\"''\", \"''\"),\n",
       " ('.', '.')]"
      ]
     },
     "execution_count": 76,
     "metadata": {},
     "output_type": "execute_result"
    }
   ],
   "source": [
    "baseline_tagger.tag(sent)"
   ]
  },
  {
   "cell_type": "code",
   "execution_count": 77,
   "metadata": {},
   "outputs": [],
   "source": [
    "baseline_tagger = nltk.UnigramTagger(model=likely_tags,\n",
    "                                    backoff=nltk.DefaultTagger('NN'))"
   ]
  },
  {
   "cell_type": "code",
   "execution_count": 78,
   "metadata": {},
   "outputs": [],
   "source": [
    "def performance(cf, wordlist):\n",
    "    lt = dict((word, cfd[word].max()) for word in wordlist)\n",
    "    baseline_tagger = nltk.UnigramTagger(model=lt, backoff=nltk.DefaultTagger('NN'))\n",
    "    return baseline_tagger.evaluate(brown.tagged_sents(categories='news'))"
   ]
  },
  {
   "cell_type": "code",
   "execution_count": 79,
   "metadata": {},
   "outputs": [],
   "source": [
    "import pylab"
   ]
  },
  {
   "cell_type": "code",
   "execution_count": 80,
   "metadata": {},
   "outputs": [],
   "source": [
    "def display():\n",
    "    word_freqs = nltk.FreqDist(brown.words(categories='news')).most_common()\n",
    "    words_by_freq = [w for (w, _) in word_freqs]\n",
    "    cfd = nltk.ConditionalFreqDist(brown.tagged_words(categories='news'))\n",
    "    sizes = 2 ** pylab.arange(15)\n",
    "    perfs = [performance(cfd, words_by_freq[:size]) for size in sizes]\n",
    "    pylab.plot(sizes, perfs, '-bo')\n",
    "    pylab.title('Lookup Tagger Performance with Varying Model Size')\n",
    "    pylab.xlabel('Model Size')\n",
    "    pylab.ylabel('Performance')\n",
    "    pylab.show()"
   ]
  },
  {
   "cell_type": "code",
   "execution_count": 81,
   "metadata": {},
   "outputs": [
    {
     "data": {
      "image/png": "[encoded data removed]",
      "text/plain": [
       "<Figure size 432x288 with 1 Axes>"
      ]
     },
     "metadata": {
      "needs_background": "light"
     },
     "output_type": "display_data"
    }
   ],
   "source": [
    "display()"
   ]
  },
  {
   "cell_type": "code",
   "execution_count": 6,
   "metadata": {},
   "outputs": [],
   "source": [
    "import nltk\n"
   ]
  },
  {
   "cell_type": "code",
   "execution_count": 1,
   "metadata": {},
   "outputs": [],
   "source": [
    "from nltk.corpus import brown"
   ]
  },
  {
   "cell_type": "code",
   "execution_count": 2,
   "metadata": {},
   "outputs": [],
   "source": [
    "brown_tagged_sents = brown.tagged_sents(categories='news')"
   ]
  },
  {
   "cell_type": "code",
   "execution_count": 3,
   "metadata": {},
   "outputs": [],
   "source": [
    "brown_sents = brown.sents(categories='news')"
   ]
  },
  {
   "cell_type": "code",
   "execution_count": 7,
   "metadata": {},
   "outputs": [],
   "source": [
    "unigram_tagger = nltk.UnigramTagger(brown_tagged_sents)"
   ]
  },
  {
   "cell_type": "code",
   "execution_count": 8,
   "metadata": {},
   "outputs": [
    {
     "data": {
      "text/plain": [
       "[('Various', 'JJ'),\n",
       " ('of', 'IN'),\n",
       " ('the', 'AT'),\n",
       " ('apartments', 'NNS'),\n",
       " ('are', 'BER'),\n",
       " ('of', 'IN'),\n",
       " ('the', 'AT'),\n",
       " ('terrace', 'NN'),\n",
       " ('type', 'NN'),\n",
       " (',', ','),\n",
       " ('being', 'BEG'),\n",
       " ('on', 'IN'),\n",
       " ('the', 'AT'),\n",
       " ('ground', 'NN'),\n",
       " ('floor', 'NN'),\n",
       " ('so', 'QL'),\n",
       " ('that', 'CS'),\n",
       " ('entrance', 'NN'),\n",
       " ('is', 'BEZ'),\n",
       " ('direct', 'JJ'),\n",
       " ('.', '.')]"
      ]
     },
     "execution_count": 8,
     "metadata": {},
     "output_type": "execute_result"
    }
   ],
   "source": [
    "unigram_tagger.tag(brown_sents[2007])"
   ]
  },
  {
   "cell_type": "code",
   "execution_count": 9,
   "metadata": {},
   "outputs": [
    {
     "data": {
      "text/plain": [
       "0.9349006503968017"
      ]
     },
     "execution_count": 9,
     "metadata": {},
     "output_type": "execute_result"
    }
   ],
   "source": [
    "unigram_tagger.evaluate(brown_tagged_sents)"
   ]
  },
  {
   "cell_type": "code",
   "execution_count": 10,
   "metadata": {},
   "outputs": [],
   "source": [
    "size = int(len(brown_tagged_sents) * 0.9)"
   ]
  },
  {
   "cell_type": "code",
   "execution_count": 11,
   "metadata": {},
   "outputs": [
    {
     "data": {
      "text/plain": [
       "4160"
      ]
     },
     "execution_count": 11,
     "metadata": {},
     "output_type": "execute_result"
    }
   ],
   "source": [
    "size"
   ]
  },
  {
   "cell_type": "code",
   "execution_count": 12,
   "metadata": {},
   "outputs": [],
   "source": [
    "train_sents = brown_tagged_sents[:size]"
   ]
  },
  {
   "cell_type": "code",
   "execution_count": 13,
   "metadata": {},
   "outputs": [],
   "source": [
    "test_sents = brown_tagged_sents[size:]"
   ]
  },
  {
   "cell_type": "code",
   "execution_count": 14,
   "metadata": {},
   "outputs": [],
   "source": [
    "unigram_tagger = nltk.UnigramTagger(train_sents)"
   ]
  },
  {
   "cell_type": "code",
   "execution_count": 15,
   "metadata": {},
   "outputs": [
    {
     "data": {
      "text/plain": [
       "0.8121200039868434"
      ]
     },
     "execution_count": 15,
     "metadata": {},
     "output_type": "execute_result"
    }
   ],
   "source": [
    "unigram_tagger.evaluate(test_sents)"
   ]
  },
  {
   "cell_type": "code",
   "execution_count": 16,
   "metadata": {},
   "outputs": [],
   "source": [
    "bigram_tagger = nltk.BigramTagger(train_sents)"
   ]
  },
  {
   "cell_type": "code",
   "execution_count": 17,
   "metadata": {},
   "outputs": [
    {
     "data": {
      "text/plain": [
       "[('Various', 'JJ'),\n",
       " ('of', 'IN'),\n",
       " ('the', 'AT'),\n",
       " ('apartments', 'NNS'),\n",
       " ('are', 'BER'),\n",
       " ('of', 'IN'),\n",
       " ('the', 'AT'),\n",
       " ('terrace', 'NN'),\n",
       " ('type', 'NN'),\n",
       " (',', ','),\n",
       " ('being', 'BEG'),\n",
       " ('on', 'IN'),\n",
       " ('the', 'AT'),\n",
       " ('ground', 'NN'),\n",
       " ('floor', 'NN'),\n",
       " ('so', 'CS'),\n",
       " ('that', 'CS'),\n",
       " ('entrance', 'NN'),\n",
       " ('is', 'BEZ'),\n",
       " ('direct', 'JJ'),\n",
       " ('.', '.')]"
      ]
     },
     "execution_count": 17,
     "metadata": {},
     "output_type": "execute_result"
    }
   ],
   "source": [
    "bigram_tagger.tag(brown_sents[2007])"
   ]
  },
  {
   "cell_type": "code",
   "execution_count": 18,
   "metadata": {},
   "outputs": [],
   "source": [
    "unseen_sent = brown_sents[4203]"
   ]
  },
  {
   "cell_type": "code",
   "execution_count": 19,
   "metadata": {},
   "outputs": [
    {
     "data": {
      "text/plain": [
       "[('The', 'AT'),\n",
       " ('population', 'NN'),\n",
       " ('of', 'IN'),\n",
       " ('the', 'AT'),\n",
       " ('Congo', 'NP'),\n",
       " ('is', 'BEZ'),\n",
       " ('13.5', None),\n",
       " ('million', None),\n",
       " (',', None),\n",
       " ('divided', None),\n",
       " ('into', None),\n",
       " ('at', None),\n",
       " ('least', None),\n",
       " ('seven', None),\n",
       " ('major', None),\n",
       " ('``', None),\n",
       " ('culture', None),\n",
       " ('clusters', None),\n",
       " (\"''\", None),\n",
       " ('and', None),\n",
       " ('innumerable', None),\n",
       " ('tribes', None),\n",
       " ('speaking', None),\n",
       " ('400', None),\n",
       " ('separate', None),\n",
       " ('dialects', None),\n",
       " ('.', None)]"
      ]
     },
     "execution_count": 19,
     "metadata": {},
     "output_type": "execute_result"
    }
   ],
   "source": [
    "bigram_tagger.tag(unseen_sent)"
   ]
  },
  {
   "cell_type": "code",
   "execution_count": 21,
   "metadata": {},
   "outputs": [
    {
     "data": {
      "text/plain": [
       "0.10206319146815508"
      ]
     },
     "execution_count": 21,
     "metadata": {},
     "output_type": "execute_result"
    }
   ],
   "source": [
    "bigram_tagger.evaluate(test_sents)"
   ]
  },
  {
   "cell_type": "code",
   "execution_count": 22,
   "metadata": {},
   "outputs": [],
   "source": [
    "t0 = nltk.DefaultTagger('NN')"
   ]
  },
  {
   "cell_type": "code",
   "execution_count": 23,
   "metadata": {},
   "outputs": [],
   "source": [
    "t1 = nltk.UnigramTagger(train_sents, backoff=t0)"
   ]
  },
  {
   "cell_type": "code",
   "execution_count": 24,
   "metadata": {},
   "outputs": [],
   "source": [
    "t2 = nltk.BigramTagger(train_sents, backoff=t1)"
   ]
  },
  {
   "cell_type": "code",
   "execution_count": 25,
   "metadata": {},
   "outputs": [
    {
     "data": {
      "text/plain": [
       "0.8452108043456593"
      ]
     },
     "execution_count": 25,
     "metadata": {},
     "output_type": "execute_result"
    }
   ],
   "source": [
    "t2.evaluate(test_sents)"
   ]
  },
  {
   "cell_type": "code",
   "execution_count": 26,
   "metadata": {},
   "outputs": [],
   "source": [
    "from pickle import dump"
   ]
  },
  {
   "cell_type": "code",
   "execution_count": 27,
   "metadata": {},
   "outputs": [],
   "source": [
    "with open('t2.pkl', 'wb') as f:\n",
    "    dump(t2, f, -1)"
   ]
  },
  {
   "cell_type": "code",
   "execution_count": 28,
   "metadata": {},
   "outputs": [],
   "source": [
    "from pickle import load\n",
    "with open('t2.pkl', 'rb') as f:\n",
    "    tagger = load(f)"
   ]
  },
  {
   "cell_type": "code",
   "execution_count": 29,
   "metadata": {},
   "outputs": [],
   "source": [
    "text = \"\"\"The board's action shows what free enterprise \n",
    "is up against in our complex maze of regulatory laws.\"\"\""
   ]
  },
  {
   "cell_type": "code",
   "execution_count": 30,
   "metadata": {},
   "outputs": [],
   "source": [
    "tokens = text.split()"
   ]
  },
  {
   "cell_type": "code",
   "execution_count": 31,
   "metadata": {},
   "outputs": [
    {
     "data": {
      "text/plain": [
       "[('The', 'AT'),\n",
       " (\"board's\", 'NN$'),\n",
       " ('action', 'NN'),\n",
       " ('shows', 'NNS'),\n",
       " ('what', 'WDT'),\n",
       " ('free', 'JJ'),\n",
       " ('enterprise', 'NN'),\n",
       " ('is', 'BEZ'),\n",
       " ('up', 'RP'),\n",
       " ('against', 'IN'),\n",
       " ('in', 'IN'),\n",
       " ('our', 'PP$'),\n",
       " ('complex', 'JJ'),\n",
       " ('maze', 'NN'),\n",
       " ('of', 'IN'),\n",
       " ('regulatory', 'NN'),\n",
       " ('laws.', 'NN')]"
      ]
     },
     "execution_count": 31,
     "metadata": {},
     "output_type": "execute_result"
    }
   ],
   "source": [
    "tagger.tag(tokens)"
   ]
  },
  {
   "cell_type": "code",
   "execution_count": 38,
   "metadata": {},
   "outputs": [],
   "source": [
    "def get_data(gen):\n",
    "    try:\n",
    "        for elem in gen:\n",
    "            yield elem\n",
    "    except (RuntimeError, StopIteration):\n",
    "        return"
   ]
  },
  {
   "cell_type": "code",
   "execution_count": 39,
   "metadata": {},
   "outputs": [],
   "source": [
    "data = [((x[1], y[1], z[0]), z[1])\n",
    "for sent in brown_tagged_sents\n",
    "for x, y, z in get_data(nltk.trigrams(sent))]\n",
    "cfd = nltk.ConditionalFreqDist(data)"
   ]
  },
  {
   "cell_type": "code",
   "execution_count": 40,
   "metadata": {},
   "outputs": [],
   "source": [
    "ambiguous_contexts = [c for c in cfd.conditions() if len(cfd[c]) > 1]"
   ]
  },
  {
   "cell_type": "code",
   "execution_count": 41,
   "metadata": {},
   "outputs": [
    {
     "data": {
      "text/plain": [
       "0.049297702068029296"
      ]
     },
     "execution_count": 41,
     "metadata": {},
     "output_type": "execute_result"
    }
   ],
   "source": [
    "sum(cfd[c].N() for c in ambiguous_contexts) / cfd.N()"
   ]
  },
  {
   "cell_type": "code",
   "execution_count": 42,
   "metadata": {},
   "outputs": [],
   "source": [
    "test_tags = [tag for sent in brown.sents(categories='editorial')\n",
    "            for (word, tag) in t2.tag(sent)]"
   ]
  },
  {
   "cell_type": "code",
   "execution_count": 43,
   "metadata": {},
   "outputs": [],
   "source": [
    "gold_tags = [tag for (word, tag) in brown.tagged_words(categories='editorial')]"
   ]
  },
  {
   "cell_type": "code",
   "execution_count": 46,
   "metadata": {},
   "outputs": [
    {
     "data": {
      "text/plain": [
       "<ConfusionMatrix: 52073/61604 correct>"
      ]
     },
     "execution_count": 46,
     "metadata": {},
     "output_type": "execute_result"
    }
   ],
   "source": [
    "nltk.ConfusionMatrix(gold_tags, test_tags)"
   ]
  },
  {
   "cell_type": "code",
   "execution_count": 48,
   "metadata": {},
   "outputs": [],
   "source": [
    "from nltk.tbl import demo as brill_tagger"
   ]
  },
  {
   "cell_type": "code",
   "execution_count": 49,
   "metadata": {},
   "outputs": [
    {
     "name": "stdout",
     "output_type": "stream",
     "text": [
      "Loading tagged data from treebank... \n",
      "Read testing data (200 sents/5251 wds)\n",
      "Read training data (800 sents/19933 wds)\n",
      "Read baseline data (800 sents/19933 wds) [reused the training set]\n",
      "Trained baseline tagger\n",
      "    Accuracy on test set: 0.8366\n",
      "Training tbl tagger...\n",
      "TBL train (fast) (seqs: 800; tokens: 19933; tpls: 24; min score: 3; min acc: None)\n",
      "Finding initial useful rules...\n",
      "    Found 12799 useful rules.\n",
      "\n",
      "           B      |\n",
      "   S   F   r   O  |        Score = Fixed - Broken\n",
      "   c   i   o   t  |  R     Fixed = num tags changed incorrect -> correct\n",
      "   o   x   k   h  |  u     Broken = num tags changed correct -> incorrect\n",
      "   r   e   e   e  |  l     Other = num tags changed incorrect -> incorrect\n",
      "   e   d   n   r  |  e\n",
      "------------------+-------------------------------------------------------\n",
      "  23  23   0   0  | POS->VBZ if Pos:PRP@[-2,-1]\n",
      "  18  19   1   0  | NN->VB if Pos:-NONE-@[-2] & Pos:TO@[-1]\n",
      "  14  14   0   0  | VBP->VB if Pos:MD@[-2,-1]\n",
      "  12  12   0   0  | VBP->VB if Pos:TO@[-1]\n",
      "  11  11   0   0  | VBD->VBN if Pos:VBD@[-1]\n",
      "  11  11   0   0  | IN->WDT if Pos:-NONE-@[1] & Pos:VBP@[2]\n",
      "  10  11   1   0  | VBN->VBD if Pos:PRP@[-1]\n",
      "   9  10   1   0  | VBD->VBN if Pos:VBZ@[-1]\n",
      "   8   8   0   0  | NN->VB if Pos:MD@[-1]\n",
      "   7   7   0   1  | VB->NN if Pos:DT@[-1]\n",
      "   7   7   0   0  | VB->VBP if Pos:PRP@[-1]\n",
      "   7   7   0   0  | IN->WDT if Pos:-NONE-@[1] & Pos:VBZ@[2]\n",
      "   7   8   1   0  | IN->RB if Word:as@[2]\n",
      "   6   6   0   0  | VBD->VBN if Pos:VBP@[-2,-1]\n",
      "   6   6   0   1  | IN->WDT if Pos:-NONE-@[1] & Pos:VBD@[2]\n",
      "   5   5   0   0  | POS->VBZ if Pos:-NONE-@[-1]\n",
      "   5   5   0   0  | VB->VBP if Pos:NNS@[-1]\n",
      "   5   5   0   0  | VBD->VBN if Word:be@[-2,-1]\n",
      "   4   4   0   0  | POS->VBZ if Pos:``@[-2]\n",
      "   4   4   0   0  | VBP->VB if Pos:VBD@[-2,-1]\n",
      "   4   6   2   3  | RP->RB if Pos:CD@[1,2]\n",
      "   4   4   0   0  | RB->JJ if Pos:DT@[-1] & Pos:NN@[1]\n",
      "   4   4   0   0  | NN->VBP if Pos:NNS@[-2] & Pos:RB@[-1]\n",
      "   4   5   1   0  | VBN->VBD if Pos:NNP@[-2] & Pos:NNP@[-1]\n",
      "   4   4   0   0  | IN->WDT if Pos:-NONE-@[1] & Pos:MD@[2]\n",
      "   4   8   4   0  | VBD->VBN if Word:*@[1]\n",
      "   4   4   0   0  | JJS->RBS if Word:most@[0] & Word:the@[-1] & Pos:DT@[-1]\n",
      "   3   3   0   0  | VBD->VBN if Pos:VBN@[-1]\n",
      "   3   4   1   0  | VBN->VB if Pos:TO@[-1]\n",
      "   3   4   1   1  | IN->RB if Pos:.@[1]\n",
      "   3   3   0   0  | JJ->RB if Pos:VBD@[1]\n",
      "   3   3   0   0  | PRP$->PRP if Pos:TO@[1]\n",
      "   3   3   0   0  | NN->VBP if Pos:NNS@[-1] & Pos:DT@[1]\n",
      "   3   3   0   0  | VBP->VB if Word:n't@[-2,-1]\n",
      "Trained tbl tagger in 3.47 seconds\n",
      "    Accuracy on test set: 0.8572\n",
      "Tagging the test data\n"
     ]
    }
   ],
   "source": [
    "brill_tagger.demo()"
   ]
  },
  {
   "cell_type": "code",
   "execution_count": null,
   "metadata": {},
   "outputs": [],
   "source": []
  }
 ],
 "metadata": {
  "kernelspec": {
   "display_name": "Python 3",
   "language": "python",
   "name": "python3"
  },
  "language_info": {
   "codemirror_mode": {
    "name": "ipython",
    "version": 3
   },
   "file_extension": ".py",
   "mimetype": "text/x-python",
   "name": "python",
   "nbconvert_exporter": "python",
   "pygments_lexer": "ipython3",
   "version": "3.7.0b1"
  }
 },
 "nbformat": 4,
 "nbformat_minor": 2
}
