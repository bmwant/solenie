{
 "cells": [
  {
   "cell_type": "code",
   "execution_count": 1,
   "id": "ef4d1a17",
   "metadata": {},
   "outputs": [],
   "source": [
    "%matplotlib inline"
   ]
  },
  {
   "cell_type": "code",
   "execution_count": null,
   "id": "ccb0c263",
   "metadata": {},
   "outputs": [],
   "source": []
  },
  {
   "cell_type": "code",
   "execution_count": null,
   "id": "b73e6828",
   "metadata": {},
   "outputs": [],
   "source": []
  },
  {
   "cell_type": "code",
   "execution_count": 21,
   "id": "84475b0c",
   "metadata": {},
   "outputs": [],
   "source": [
    "from jerry.client.kuna import KunaClient"
   ]
  },
  {
   "cell_type": "code",
   "execution_count": 4,
   "id": "60b458a4",
   "metadata": {},
   "outputs": [],
   "source": [
    "from jerry.client import get_client"
   ]
  },
  {
   "cell_type": "code",
   "execution_count": 6,
   "id": "1760ebb4",
   "metadata": {},
   "outputs": [],
   "source": [
    "client = get_client('kuna')"
   ]
  },
  {
   "cell_type": "code",
   "execution_count": 9,
   "id": "e3489e8c",
   "metadata": {},
   "outputs": [],
   "source": [
    "ask = client.get_ask('DOGEUAH')"
   ]
  },
  {
   "cell_type": "code",
   "execution_count": 11,
   "id": "83e96433",
   "metadata": {},
   "outputs": [],
   "source": [
    "symbol = 'DOGEUAH'\n",
    "bid = client.get_bid(symbol)"
   ]
  },
  {
   "cell_type": "code",
   "execution_count": 12,
   "id": "11c2efdb",
   "metadata": {},
   "outputs": [
    {
     "data": {
      "text/plain": [
       "[[8.53, 1172.3329, 1],\n",
       " [8.52, 725.5135, 2],\n",
       " [8.5, 3556.6277, 3],\n",
       " [8.45, 20.0, 1],\n",
       " [8.41, 12.9601, 3],\n",
       " [8.38, 418.9661, 1],\n",
       " [8.31, 753.8, 1],\n",
       " [8.15, 2.1235, 1],\n",
       " [8.1, 2.1233, 1],\n",
       " [8.08, 10.0125, 1],\n",
       " [8.0, 604.375, 5],\n",
       " [7.82, 2.5575, 1],\n",
       " [7.64, 50.0, 1],\n",
       " [7.61, 2.6281, 1],\n",
       " [7.5, 2.6666, 1],\n",
       " [7.29, 3.2922, 1],\n",
       " [7.25, 3.3103, 1],\n",
       " [7.01, 1.0, 1],\n",
       " [7.0, 60.1413, 3],\n",
       " [6.5, 150.0, 1],\n",
       " [6.0, 0.3333, 1],\n",
       " [5.81, 3731.8037, 2],\n",
       " [5.5, 2.0, 1],\n",
       " [5.4, 92.5926, 1],\n",
       " [5.2, 50.0, 1],\n",
       " [5.1, 588.2353, 1],\n",
       " [5.02, 9960.5059, 1],\n",
       " [5.0, 160.0, 2],\n",
       " [4.38, 456.621, 1],\n",
       " [4.2, 24.0, 1],\n",
       " [4.12, 3519.4, 1],\n",
       " [4.1, 294.0, 1],\n",
       " [4.0, 950.0, 2],\n",
       " [3.5, 28.5714, 1],\n",
       " [2.6, 2.0, 1],\n",
       " [2.5, 4.0, 1],\n",
       " [2.2, 45.4545, 1],\n",
       " [2.1, 47.619, 1],\n",
       " [2.0, 50.0, 1],\n",
       " [1.8, 146.4612, 2],\n",
       " [1.3, 76.9231, 1],\n",
       " [1.12, 89.2857, 1],\n",
       " [1.1, 90.9091, 1],\n",
       " [1.08, 185.1852, 1],\n",
       " [1.01, 5465.5346, 1],\n",
       " [1.0, 1546.0, 4],\n",
       " [0.76, 131.5789, 1],\n",
       " [0.51, 196.0784, 1],\n",
       " [0.35, 2000.0, 1],\n",
       " [0.31, 2103.2258, 1],\n",
       " [0.25, 4200.0, 2],\n",
       " [0.24, 17718.75, 1],\n",
       " [0.22, 14003.2272, 1],\n",
       " [0.13, 1000.0, 1],\n",
       " [0.12, 6666.6667, 1],\n",
       " [0.1, 635.6, 2],\n",
       " [0.09, 555.5556, 1],\n",
       " [0.04, 102530.5, 1],\n",
       " [0.02, 25000.0, 1],\n",
       " [0.01, 1010818.0, 2]]"
      ]
     },
     "execution_count": 12,
     "metadata": {},
     "output_type": "execute_result"
    }
   ],
   "source": [
    "bid  # price, volume, orders count"
   ]
  },
  {
   "cell_type": "code",
   "execution_count": 15,
   "id": "6e3a42b5",
   "metadata": {},
   "outputs": [],
   "source": [
    "bid_volume_uah = sum(map(lambda x: x[0]*x[1], bid))"
   ]
  },
  {
   "cell_type": "code",
   "execution_count": 16,
   "id": "e770b958",
   "metadata": {},
   "outputs": [
    {
     "data": {
      "text/plain": [
       "195104.9593739999"
      ]
     },
     "execution_count": 16,
     "metadata": {},
     "output_type": "execute_result"
    }
   ],
   "source": [
    "bid_volume_uah"
   ]
  },
  {
   "cell_type": "code",
   "execution_count": 17,
   "id": "7818085a",
   "metadata": {},
   "outputs": [],
   "source": [
    "bid_volume_doge = sum(map(lambda x: x[1], bid))"
   ]
  },
  {
   "cell_type": "code",
   "execution_count": 19,
   "id": "e50afeaf",
   "metadata": {},
   "outputs": [
    {
     "data": {
      "text/plain": [
       "1222721.0488"
      ]
     },
     "execution_count": 19,
     "metadata": {},
     "output_type": "execute_result"
    }
   ],
   "source": [
    "bid_volume_doge"
   ]
  },
  {
   "cell_type": "code",
   "execution_count": 20,
   "id": "5188cddb",
   "metadata": {},
   "outputs": [],
   "source": [
    "ask = client.get_ask(symbol)"
   ]
  },
  {
   "cell_type": "code",
   "execution_count": 22,
   "id": "df6a6b10",
   "metadata": {},
   "outputs": [
    {
     "data": {
      "text/plain": [
       "[[8.61, -6163.0911, 3],\n",
       " [8.62, -16940.203, 1],\n",
       " [8.66, -9.98, 1],\n",
       " [8.67, -0.0001, 1],\n",
       " [8.68, -0.0008, 2],\n",
       " [8.7, -1.0, 1],\n",
       " [8.8, -124.675, 1],\n",
       " [9.01, -104.69, 1],\n",
       " [9.15, -12.0106, 2],\n",
       " [9.2, -11.1732, 1],\n",
       " [9.3, -54.5081, 1],\n",
       " [9.33, -0.4557, 1],\n",
       " [9.35, -108.0, 1],\n",
       " [9.4, -113.7668, 3],\n",
       " [9.5, -124.4019, 4],\n",
       " [9.55, -49.9727, 2],\n",
       " [9.6, -31.6432, 1],\n",
       " [9.67, -33.9467, 1],\n",
       " [9.7, -155.4716, 3],\n",
       " [9.77, -0.9579, 1],\n",
       " [9.8, -89.0779, 4],\n",
       " [9.87, -9.975, 1],\n",
       " [9.9, -959.975, 3],\n",
       " [9.97, -5.2333, 1],\n",
       " [10.0, -742.703, 11],\n",
       " [10.01, -0.01, 1],\n",
       " [10.05, -16.6577, 2],\n",
       " [10.19, -50.0, 1],\n",
       " [10.2, -263.4325, 6],\n",
       " [10.25, -14.9625, 1],\n",
       " [10.29, -19.4363, 1],\n",
       " [10.3, -8.7737, 2],\n",
       " [10.38, -256.0, 1],\n",
       " [10.4, -114.0713, 4],\n",
       " [10.5, -546.7488, 9],\n",
       " [10.56, -20.8257, 1],\n",
       " [10.57, -723.589, 1],\n",
       " [10.58, -46.7022, 1],\n",
       " [10.67, -2624.1799, 1],\n",
       " [10.88, -102.9364, 1],\n",
       " [10.9, -525.163, 2],\n",
       " [11.0, -222.3812, 5],\n",
       " [11.33, -58.8218, 1],\n",
       " [11.42, -49.875, 1],\n",
       " [11.5, -5.52, 1],\n",
       " [12.0, -96.5857, 1],\n",
       " [12.05, -4.9868, 1],\n",
       " [12.8, -9.875, 1],\n",
       " [12.9, -21.1828, 1],\n",
       " [13.0, -343.2895, 3],\n",
       " [13.42, -114.7125, 1],\n",
       " [13.5, -48.0221, 1],\n",
       " [14.0, -0.0458, 1],\n",
       " [14.75, -5.0, 1],\n",
       " [14.8, -21.0037, 1],\n",
       " [14.81, -237.3599, 2],\n",
       " [15.0, -598.7185, 6],\n",
       " [16.0, -21.689, 2],\n",
       " [16.29, -19.95, 1],\n",
       " [18.2, -5.0, 1],\n",
       " [19.0, -257.4183, 4],\n",
       " [19.5, -5.0, 1],\n",
       " [19.7, -9.8149, 1],\n",
       " [19.85, -311.9116, 1],\n",
       " [19.98, -10.9424, 1],\n",
       " [20.0, -632.8398, 7],\n",
       " [20.14, -1.4895, 1],\n",
       " [20.25, -11.8239, 1],\n",
       " [21.2, -5.9286, 1],\n",
       " [24.5, -5.0, 1],\n",
       " [24.99, -9.6299, 1],\n",
       " [25.0, -49.3933, 3],\n",
       " [27.0, -116.0294, 1],\n",
       " [29.99, -9.6597, 1],\n",
       " [30.0, -9.7602, 1],\n",
       " [33.0, -549.3867, 1],\n",
       " [34.99, -9.7221, 1],\n",
       " [39.99, -8.575, 1],\n",
       " [49.5, -49.5, 1],\n",
       " [50.0, -1341.0521, 5],\n",
       " [76.21, -1.0, 1],\n",
       " [97.0, -20.0, 1],\n",
       " [100.0, -207.6294, 4],\n",
       " [270.0, -106.7349, 1],\n",
       " [500.0, -20.0, 1],\n",
       " [1000.0, -20.0247, 1],\n",
       " [2800.0, -1.0209, 1],\n",
       " [5000.0, -5.1952, 1],\n",
       " [8955.0, -14.4637, 1],\n",
       " [10000.0, -1.0, 1],\n",
       " [25000.0, -9.872, 1],\n",
       " [50000.0, -1.0, 1],\n",
       " [100000.0, -118.8553, 4],\n",
       " [420000.0, -1.1908, 1],\n",
       " [899889.0, -0.0279, 1],\n",
       " [1000000.0, -1.0, 1],\n",
       " [10000000.0, -1.0, 1],\n",
       " [99999999.0, -0.2194, 1],\n",
       " [100000000.0, -1.0, 1]]"
      ]
     },
     "execution_count": 22,
     "metadata": {},
     "output_type": "execute_result"
    }
   ],
   "source": [
    "ask"
   ]
  },
  {
   "cell_type": "code",
   "execution_count": 1,
   "id": "d8c0002a",
   "metadata": {},
   "outputs": [],
   "source": [
    "from get_data import get_volume_uah, get_volume_doge"
   ]
  },
  {
   "cell_type": "code",
   "execution_count": 2,
   "id": "555c73b9",
   "metadata": {},
   "outputs": [],
   "source": [
    "from get_data import graph_volume"
   ]
  },
  {
   "cell_type": "code",
   "execution_count": 8,
   "id": "a99dff23",
   "metadata": {},
   "outputs": [
    {
     "data": {
      "text/plain": [
       "{'bid': 244693.79191199993, 'ask': 146325255.365179}"
      ]
     },
     "execution_count": 8,
     "metadata": {},
     "output_type": "execute_result"
    }
   ],
   "source": [
    "volume_uah = get_volume_uah()\n",
    "volume_uah"
   ]
  },
  {
   "cell_type": "code",
   "execution_count": 4,
   "id": "419725fb",
   "metadata": {},
   "outputs": [],
   "source": [
    "volume_doge = get_volume_doge()"
   ]
  },
  {
   "cell_type": "code",
   "execution_count": 6,
   "id": "f7a8c409",
   "metadata": {},
   "outputs": [
    {
     "data": {
      "image/png": "[encoded data removed]",
      "text/plain": [
       "<Figure size 432x288 with 1 Axes>"
      ]
     },
     "metadata": {
      "needs_background": "light"
     },
     "output_type": "display_data"
    }
   ],
   "source": [
    "graph_volume(volume_uah, 'Volume, uah')"
   ]
  },
  {
   "cell_type": "code",
   "execution_count": 9,
   "id": "bd471ea0",
   "metadata": {},
   "outputs": [
    {
     "data": {
      "image/png": "[encoded data removed]",
      "text/plain": [
       "<Figure size 432x288 with 1 Axes>"
      ]
     },
     "metadata": {
      "needs_background": "light"
     },
     "output_type": "display_data"
    }
   ],
   "source": [
    "graph_volume(volume_doge, 'Volume, doge')"
   ]
  },
  {
   "cell_type": "code",
   "execution_count": 11,
   "id": "07f0d00e",
   "metadata": {},
   "outputs": [],
   "source": [
    "from get_data import client\n",
    "symbol = 'DOGEUAH'\n",
    "ask = client.get_ask(symbol)\n",
    "bid = client.get_bid(symbol)"
   ]
  },
  {
   "cell_type": "code",
   "execution_count": 13,
   "id": "7161e55b",
   "metadata": {},
   "outputs": [
    {
     "data": {
      "text/plain": [
       "[[8.6, 558.0411, 1],\n",
       " [8.52, 1202.2241, 3],\n",
       " [8.51, 42685.4222, 1],\n",
       " [8.5, 20.0, 1],\n",
       " [8.46, 430.6086, 1],\n",
       " [8.45, 20.0, 1],\n",
       " [8.41, 5.9454, 1],\n",
       " [8.4, 6.0, 1],\n",
       " [8.3, 754.84, 1],\n",
       " [8.15, 2.1235, 1],\n",
       " [8.1, 2.1233, 1],\n",
       " [8.08, 10.0125, 1],\n",
       " [8.0, 604.375, 5],\n",
       " [7.9, 55.9025, 1],\n",
       " [7.82, 2.5575, 1],\n",
       " [7.64, 50.0, 1],\n",
       " [7.61, 2.6281, 1],\n",
       " [7.5, 2.6666, 1],\n",
       " [7.29, 3.2922, 1],\n",
       " [7.25, 3.3103, 1],\n",
       " [7.01, 1.0, 1],\n",
       " [7.0, 60.1413, 3],\n",
       " [6.5, 150.0, 1],\n",
       " [6.0, 0.3333, 1],\n",
       " [5.81, 3731.8037, 2],\n",
       " [5.5, 2.0, 1],\n",
       " [5.4, 92.5926, 1],\n",
       " [5.2, 50.0, 1],\n",
       " [5.1, 588.2353, 1],\n",
       " [5.02, 9960.5059, 1],\n",
       " [5.0, 160.0, 2],\n",
       " [4.38, 456.621, 1],\n",
       " [4.2, 24.0, 1],\n",
       " [4.12, 3519.4, 1],\n",
       " [4.1, 294.0, 1],\n",
       " [4.0, 950.0, 2],\n",
       " [3.5, 28.5714, 1],\n",
       " [2.6, 2.0, 1],\n",
       " [2.5, 4.0, 1],\n",
       " [2.2, 45.4545, 1],\n",
       " [2.1, 47.619, 1],\n",
       " [2.0, 50.0, 1],\n",
       " [1.8, 146.4612, 2],\n",
       " [1.3, 76.9231, 1],\n",
       " [1.12, 89.2857, 1],\n",
       " [1.1, 90.9091, 1],\n",
       " [1.08, 185.1852, 1],\n",
       " [1.01, 5465.5346, 1],\n",
       " [1.0, 1546.0, 4],\n",
       " [0.76, 131.5789, 1],\n",
       " [0.51, 196.0784, 1],\n",
       " [0.35, 2000.0, 1],\n",
       " [0.31, 2103.2258, 1],\n",
       " [0.25, 4200.0, 2],\n",
       " [0.24, 17718.75, 1],\n",
       " [0.22, 14003.2272, 1],\n",
       " [0.13, 1000.0, 1],\n",
       " [0.12, 6666.6667, 1],\n",
       " [0.1, 635.6, 2],\n",
       " [0.09, 555.5556, 1],\n",
       " [0.04, 102530.5, 1],\n",
       " [0.02, 25000.0, 1],\n",
       " [0.01, 1010818.0, 2]]"
      ]
     },
     "execution_count": 13,
     "metadata": {},
     "output_type": "execute_result"
    }
   ],
   "source": [
    "bid"
   ]
  }
 ],
 "metadata": {
  "kernelspec": {
   "display_name": "Python 3",
   "language": "python",
   "name": "python3"
  },
  "language_info": {
   "codemirror_mode": {
    "name": "ipython",
    "version": 3
   },
   "file_extension": ".py",
   "mimetype": "text/x-python",
   "name": "python",
   "nbconvert_exporter": "python",
   "pygments_lexer": "ipython3",
   "version": "3.9.1"
  }
 },
 "nbformat": 4,
 "nbformat_minor": 5
}
